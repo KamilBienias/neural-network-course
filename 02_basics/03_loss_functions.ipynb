{
  "nbformat": 4,
  "nbformat_minor": 0,
  "metadata": {
    "colab": {
      "name": "03_loss_functions.ipynb",
      "provenance": [],
      "collapsed_sections": [],
      "include_colab_link": true
    },
    "kernelspec": {
      "name": "python3",
      "display_name": "Python 3"
    }
  },
  "cells": [
    {
      "cell_type": "markdown",
      "metadata": {
        "id": "view-in-github",
        "colab_type": "text"
      },
      "source": [
        "<a href=\"https://colab.research.google.com/github/KamilBienias/neural-network-course/blob/main/02_basics/03_loss_functions.ipynb\" target=\"_parent\"><img src=\"https://colab.research.google.com/assets/colab-badge.svg\" alt=\"Open In Colab\"/></a>"
      ]
    },
    {
      "cell_type": "markdown",
      "metadata": {
        "id": "5gjFu2l9IMsj"
      },
      "source": [
        "### Funkcje Straty - Loss Function:\n",
        "1. [Entropia rozkładu prawdopodobieństwa](#a0)\n",
        "2. [Binarna entropia krzyżowa - Binary Crossentropy](#a1)\n",
        "3. [Kategoryczna entropia krzyżowa - Categorical Crossentropy](#a0)\n",
        "\n",
        "#### <a name='a0'></a> 1. Entropia rozkładu prawdopodobieństwa\n",
        "$$Entropia = - \\sum_{i}p_{i} * log(p_{i})$$\n",
        "Gdzie $p_{i}$ to prawdopodobieństwo zajścia $i$-tego zdarzenia. Entropia charakteryzuje możliwość oddawania informacji przez źródło. Inaczej jest to miara nieokreśloności/niepewności. Średnie zdziwienie (wartość oczekiwana zdziwienia)"
      ]
    },
    {
      "cell_type": "code",
      "metadata": {
        "id": "YT-REXq_ghEj"
      },
      "source": [
        "# Użyj poniższego polecenia jeśli używasz innego środowiska niż Google Colab\n",
        "# !pip install --upgrade -q tensorflow\n",
        "\n",
        "# Istnieje tylko w Google Colab, wersja szybsza ;)\n",
        "%tensorflow_version 2.x"
      ],
      "execution_count": null,
      "outputs": []
    },
    {
      "cell_type": "code",
      "metadata": {
        "id": "lyxtFjeeGECa",
        "colab": {
          "base_uri": "https://localhost:8080/"
        },
        "outputId": "1e3c82c3-0c1a-466f-c733-02547bd6b6b9"
      },
      "source": [
        "# ######################################################\n",
        "# Etap 5. Odcinek: Funkcje straty - przykłady.\n",
        "\n",
        "import numpy as np\n",
        "np.set_printoptions(precision=6, suppress=True)\n",
        "\n",
        "def entropy(labels, base=None):\n",
        "    from math import log, e\n",
        "    n_labels = len(labels)\n",
        "    \n",
        "    if n_labels <= 1:\n",
        "        return 0\n",
        "    \n",
        "    value, counts = np.unique(labels, return_counts=True)\n",
        "    probs = counts / n_labels\n",
        "    n_classes = np.count_nonzero(probs)\n",
        "    \n",
        "    if n_classes <= 1:\n",
        "        return 0\n",
        "    \n",
        "    ent = 0.\n",
        "    \n",
        "    base = e if base is None else base\n",
        "    for i in probs:\n",
        "        ent -= i * log(i, base)\n",
        "    return ent\n",
        "\n",
        "\n",
        "labels = [1,3,5,2,3,5,3,2,1,3,4,5]\n",
        "entropy(labels)"
      ],
      "execution_count": null,
      "outputs": [
        {
          "output_type": "execute_result",
          "data": {
            "text/plain": [
              "1.5171063970610277"
            ]
          },
          "metadata": {
            "tags": []
          },
          "execution_count": 4
        }
      ]
    },
    {
      "cell_type": "code",
      "metadata": {
        "id": "c_7m4M8MZkHp",
        "colab": {
          "base_uri": "https://localhost:8080/"
        },
        "outputId": "2e941516-854f-4742-997f-5c262ea5f30a"
      },
      "source": [
        "labels = [3, 3, 3, 3, 3, 3, 3]\n",
        "entropy(labels)"
      ],
      "execution_count": null,
      "outputs": [
        {
          "output_type": "execute_result",
          "data": {
            "text/plain": [
              "0"
            ]
          },
          "metadata": {
            "tags": []
          },
          "execution_count": 5
        }
      ]
    },
    {
      "cell_type": "markdown",
      "metadata": {
        "id": "CyRgL5ybaV7N"
      },
      "source": [
        "#### <a name='a1'></a> 2. Binarna entropia krzyżowa - Binary Crossentropy\n",
        "$$Binary\\ CrossEntropy = - \\frac{1}{N}\\sum_{i=1}^{N}(y_{i}*log(p(y_{i})) + (1-y_{i}) * log(1-p(y_{i}))$$"
      ]
    },
    {
      "cell_type": "code",
      "metadata": {
        "id": "gXA1CKEAbs6e",
        "colab": {
          "base_uri": "https://localhost:8080/"
        },
        "outputId": "4c3663c2-7ede-40da-d06d-176a5b996d85"
      },
      "source": [
        "from tensorflow.keras.losses import binary_crossentropy\n",
        "\n",
        "y_true = np.array([1, 0, 1, 1, 0, 1], dtype='float')\n",
        "y_pred = np.array([0, 0, 1, 1, 0, 1], dtype='float')\n",
        "\n",
        "binary_crossentropy(y_true, y_pred)"
      ],
      "execution_count": null,
      "outputs": [
        {
          "output_type": "execute_result",
          "data": {
            "text/plain": [
              "<tf.Tensor: shape=(), dtype=float64, numpy=2.5708247450663957>"
            ]
          },
          "metadata": {
            "tags": []
          },
          "execution_count": 6
        }
      ]
    },
    {
      "cell_type": "markdown",
      "metadata": {
        "id": "EK-uYzfca0tG"
      },
      "source": [
        "#### <a name='a2'></a> 3. Kategoryczna entropia krzyżowa - Categorical Crossentropy\n",
        "$$Categorical\\ CrossEntropy= - \\sum_{i}y_{i} * log(p(y_{i})) $$"
      ]
    },
    {
      "cell_type": "code",
      "metadata": {
        "id": "PXCV2LIlanLc",
        "colab": {
          "base_uri": "https://localhost:8080/"
        },
        "outputId": "7b33b4a8-0244-4290-ffa9-ea789fb2ffd5"
      },
      "source": [
        "from tensorflow.keras.losses import categorical_crossentropy\n",
        "\n",
        "y_true = np.array([1, 0, 1, 1, 2, 0, 1, 1, 2], dtype='float')\n",
        "y_pred = np.array([0, 0, 1, 1, 2, 0, 1, 2, 2], dtype='float')\n",
        "\n",
        "categorical_crossentropy(y_true, y_pred)"
      ],
      "execution_count": null,
      "outputs": [
        {
          "output_type": "execute_result",
          "data": {
            "text/plain": [
              "<tf.Tensor: shape=(), dtype=float64, numpy=30.23015636684835>"
            ]
          },
          "metadata": {
            "tags": []
          },
          "execution_count": 7
        }
      ]
    },
    {
      "cell_type": "code",
      "metadata": {
        "id": "16rmIAP2hwN3",
        "colab": {
          "base_uri": "https://localhost:8080/"
        },
        "outputId": "5f9d9018-bafc-4e90-9cd0-b9636b6522df"
      },
      "source": [
        "y_true = np.array([0, 0, 1, 1, 2, 0, 1, 1, 2], dtype='float')\n",
        "y_pred = np.array([0, 1, 1, 2, 0, 1, 1, 2, 1], dtype='float')\n",
        "\n",
        "categorical_crossentropy(y_true, y_pred)"
      ],
      "execution_count": null,
      "outputs": [
        {
          "output_type": "execute_result",
          "data": {
            "text/plain": [
              "<tf.Tensor: shape=(), dtype=float64, numpy=44.03324440481406>"
            ]
          },
          "metadata": {
            "tags": []
          },
          "execution_count": 8
        }
      ]
    }
  ]
}