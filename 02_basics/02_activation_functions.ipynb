{
  "nbformat": 4,
  "nbformat_minor": 0,
  "metadata": {
    "colab": {
      "name": "02_activation_functions.ipynb",
      "provenance": [],
      "collapsed_sections": [],
      "include_colab_link": true
    },
    "kernelspec": {
      "name": "python3",
      "display_name": "Python 3"
    }
  },
  "cells": [
    {
      "cell_type": "markdown",
      "metadata": {
        "id": "view-in-github",
        "colab_type": "text"
      },
      "source": [
        "<a href=\"https://colab.research.google.com/github/KamilBienias/neural-network-course/blob/main/02_basics/02_activation_functions.ipynb\" target=\"_parent\"><img src=\"https://colab.research.google.com/assets/colab-badge.svg\" alt=\"Open In Colab\"/></a>"
      ]
    },
    {
      "cell_type": "markdown",
      "metadata": {
        "id": "aJK8zEFX-rCh"
      },
      "source": [
        "### Spis treści:\n",
        "1. [Funkcje aktywacji](#a0)\n",
        "    1. [Import bibliotek](#a1)\n",
        "    2. [ReLU Function - Rectified Linear Unit](#a2)\n",
        "    3. [Funkcja Sigmoid](#a3)\n",
        "    4. [Tanh Function](#a4)\n",
        "    5. [Funkcja Softmax](#a5)\n",
        "  "
      ]
    },
    {
      "cell_type": "markdown",
      "metadata": {
        "id": "9VIrbuFPxsat"
      },
      "source": [
        "### <a name='a0'></a> 1. Funkcje Aktywacji\n",
        "#### <a name='a1'></a> 1.1 Import bibliotek"
      ]
    },
    {
      "cell_type": "code",
      "metadata": {
        "id": "Kl3iA-gm_j1d"
      },
      "source": [
        "# ######################################################\n",
        "# Etap 5. Odcinek: Funkcja aktywacji.\n",
        "\n",
        "import numpy as np\n",
        "import pandas as pd\n",
        "import matplotlib.pyplot as plt\n",
        "import plotly.graph_objects as go\n",
        "import plotly.express as px\n",
        "import math\n",
        "\n",
        "np.set_printoptions(precision=6)"
      ],
      "execution_count": null,
      "outputs": []
    },
    {
      "cell_type": "markdown",
      "metadata": {
        "id": "5VH4XY41_QIk"
      },
      "source": [
        "#### <a name='a2'></a> 1.2 ReLU Function - Rectified Linear Unit\n",
        "####     $$f(x) = max(x, 0)$$\n"
      ]
    },
    {
      "cell_type": "code",
      "metadata": {
        "id": "g5-Jsx0ww6BH"
      },
      "source": [
        "def max_relu(x):\n",
        "    return max(x, 0.0)"
      ],
      "execution_count": null,
      "outputs": []
    },
    {
      "cell_type": "code",
      "metadata": {
        "id": "QigwpBCzyj0I",
        "colab": {
          "base_uri": "https://localhost:8080/"
        },
        "outputId": "2b3b7a83-4750-46c0-bcf3-2eae37247143"
      },
      "source": [
        "for i in [-10., -5., 0., 5., 10.]:\n",
        "    print(max_relu(i))"
      ],
      "execution_count": null,
      "outputs": [
        {
          "output_type": "stream",
          "text": [
            "0.0\n",
            "0.0\n",
            "0.0\n",
            "5.0\n",
            "10.0\n"
          ],
          "name": "stdout"
        }
      ]
    },
    {
      "cell_type": "code",
      "metadata": {
        "id": "vkwyQ5ga_-cR",
        "colab": {
          "base_uri": "https://localhost:8080/"
        },
        "outputId": "d3e13d1e-e383-430d-bf2b-7e56cf616670"
      },
      "source": [
        "# 50 liczb z rozkładu N(0,1)\n",
        "data = np.random.randn(50)\n",
        "# sortuje losowe dane\n",
        "data = sorted(data)\n",
        "data"
      ],
      "execution_count": null,
      "outputs": [
        {
          "output_type": "execute_result",
          "data": {
            "text/plain": [
              "[-2.3159024209912222,\n",
              " -2.0642705413842775,\n",
              " -1.948023060297861,\n",
              " -1.9314828750448096,\n",
              " -1.8569037132225332,\n",
              " -1.6791648051702721,\n",
              " -1.396162215319866,\n",
              " -1.1842562706692088,\n",
              " -1.0749985234351969,\n",
              " -0.9896708220353061,\n",
              " -0.9201083183853794,\n",
              " -0.911267457892984,\n",
              " -0.8605015756354312,\n",
              " -0.8041944866703535,\n",
              " -0.665907902261263,\n",
              " -0.6065027704851187,\n",
              " -0.548280992273387,\n",
              " -0.5135585482201352,\n",
              " -0.5086150796723039,\n",
              " -0.4799116880842628,\n",
              " -0.47275992536730604,\n",
              " -0.29337227190246323,\n",
              " -0.2558770674549793,\n",
              " -0.16206283206278427,\n",
              " -0.10942149160877826,\n",
              " -0.09828684980534977,\n",
              " -0.06748602965673466,\n",
              " -0.03550199205526672,\n",
              " 0.08313890656711628,\n",
              " 0.11361883685275921,\n",
              " 0.2141213249929331,\n",
              " 0.22170812352707348,\n",
              " 0.24900121567804415,\n",
              " 0.2641048218471183,\n",
              " 0.273880250203708,\n",
              " 0.28338704606112436,\n",
              " 0.28467592114491413,\n",
              " 0.31741903105892183,\n",
              " 0.3333039249278907,\n",
              " 0.40569122498808524,\n",
              " 0.4261299420935601,\n",
              " 0.5650765145441613,\n",
              " 0.5808021804552801,\n",
              " 0.7596261149549868,\n",
              " 1.3706857116796352,\n",
              " 1.407916949146357,\n",
              " 1.6840230960239684,\n",
              " 1.8224969408532754,\n",
              " 2.1272622477986083,\n",
              " 2.2469337980544655]"
            ]
          },
          "metadata": {
            "tags": []
          },
          "execution_count": 4
        }
      ]
    },
    {
      "cell_type": "code",
      "metadata": {
        "id": "DfAxh5JmAahe",
        "colab": {
          "base_uri": "https://localhost:8080/"
        },
        "outputId": "bd2f29fb-0480-4ae8-ec29-3f9c60cf23b5"
      },
      "source": [
        "# wygenerowanie danych do wykresu\n",
        "max_relu_data = np.array([max_relu(x) for x in data])\n",
        "max_relu_data\n",
        "# ujemne dane zamienia na zera"
      ],
      "execution_count": null,
      "outputs": [
        {
          "output_type": "execute_result",
          "data": {
            "text/plain": [
              "array([0.      , 0.      , 0.      , 0.      , 0.      , 0.      ,\n",
              "       0.      , 0.      , 0.      , 0.      , 0.      , 0.      ,\n",
              "       0.      , 0.      , 0.      , 0.      , 0.      , 0.      ,\n",
              "       0.      , 0.      , 0.      , 0.      , 0.      , 0.      ,\n",
              "       0.      , 0.      , 0.      , 0.      , 0.083139, 0.113619,\n",
              "       0.214121, 0.221708, 0.249001, 0.264105, 0.27388 , 0.283387,\n",
              "       0.284676, 0.317419, 0.333304, 0.405691, 0.42613 , 0.565077,\n",
              "       0.580802, 0.759626, 1.370686, 1.407917, 1.684023, 1.822497,\n",
              "       2.127262, 2.246934])"
            ]
          },
          "metadata": {
            "tags": []
          },
          "execution_count": 5
        }
      ]
    },
    {
      "cell_type": "code",
      "metadata": {
        "id": "Texh_DsIAnzA",
        "colab": {
          "base_uri": "https://localhost:8080/",
          "height": 203
        },
        "outputId": "647a65f2-ab10-4a47-d2e9-aa49991f7d6a"
      },
      "source": [
        "df = pd.DataFrame({'data': data, \n",
        "                   'max_relu_data': max_relu_data})\n",
        "df.head()"
      ],
      "execution_count": null,
      "outputs": [
        {
          "output_type": "execute_result",
          "data": {
            "text/html": [
              "<div>\n",
              "<style scoped>\n",
              "    .dataframe tbody tr th:only-of-type {\n",
              "        vertical-align: middle;\n",
              "    }\n",
              "\n",
              "    .dataframe tbody tr th {\n",
              "        vertical-align: top;\n",
              "    }\n",
              "\n",
              "    .dataframe thead th {\n",
              "        text-align: right;\n",
              "    }\n",
              "</style>\n",
              "<table border=\"1\" class=\"dataframe\">\n",
              "  <thead>\n",
              "    <tr style=\"text-align: right;\">\n",
              "      <th></th>\n",
              "      <th>data</th>\n",
              "      <th>max_relu_data</th>\n",
              "    </tr>\n",
              "  </thead>\n",
              "  <tbody>\n",
              "    <tr>\n",
              "      <th>0</th>\n",
              "      <td>-2.315902</td>\n",
              "      <td>0.0</td>\n",
              "    </tr>\n",
              "    <tr>\n",
              "      <th>1</th>\n",
              "      <td>-2.064271</td>\n",
              "      <td>0.0</td>\n",
              "    </tr>\n",
              "    <tr>\n",
              "      <th>2</th>\n",
              "      <td>-1.948023</td>\n",
              "      <td>0.0</td>\n",
              "    </tr>\n",
              "    <tr>\n",
              "      <th>3</th>\n",
              "      <td>-1.931483</td>\n",
              "      <td>0.0</td>\n",
              "    </tr>\n",
              "    <tr>\n",
              "      <th>4</th>\n",
              "      <td>-1.856904</td>\n",
              "      <td>0.0</td>\n",
              "    </tr>\n",
              "  </tbody>\n",
              "</table>\n",
              "</div>"
            ],
            "text/plain": [
              "       data  max_relu_data\n",
              "0 -2.315902            0.0\n",
              "1 -2.064271            0.0\n",
              "2 -1.948023            0.0\n",
              "3 -1.931483            0.0\n",
              "4 -1.856904            0.0"
            ]
          },
          "metadata": {
            "tags": []
          },
          "execution_count": 6
        }
      ]
    },
    {
      "cell_type": "code",
      "metadata": {
        "id": "r_39ck7EBC2s",
        "colab": {
          "base_uri": "https://localhost:8080/",
          "height": 417
        },
        "outputId": "68564369-20fa-4bee-be07-92861f21fa71"
      },
      "source": [
        "px.line(df, x='data', y='max_relu_data', width=700, height=400, title='ReLU Function')"
      ],
      "execution_count": null,
      "outputs": [
        {
          "output_type": "display_data",
          "data": {
            "text/html": [
              "<html>\n",
              "<head><meta charset=\"utf-8\" /></head>\n",
              "<body>\n",
              "    <div>\n",
              "            <script src=\"https://cdnjs.cloudflare.com/ajax/libs/mathjax/2.7.5/MathJax.js?config=TeX-AMS-MML_SVG\"></script><script type=\"text/javascript\">if (window.MathJax) {MathJax.Hub.Config({SVG: {font: \"STIX-Web\"}});}</script>\n",
              "                <script type=\"text/javascript\">window.PlotlyConfig = {MathJaxConfig: 'local'};</script>\n",
              "        <script src=\"https://cdn.plot.ly/plotly-latest.min.js\"></script>    \n",
              "            <div id=\"26968701-e269-4788-9e79-1123be9f8829\" class=\"plotly-graph-div\" style=\"height:400px; width:700px;\"></div>\n",
              "            <script type=\"text/javascript\">\n",
              "                \n",
              "                    window.PLOTLYENV=window.PLOTLYENV || {};\n",
              "                    \n",
              "                if (document.getElementById(\"26968701-e269-4788-9e79-1123be9f8829\")) {\n",
              "                    Plotly.newPlot(\n",
              "                        '26968701-e269-4788-9e79-1123be9f8829',\n",
              "                        [{\"hoverlabel\": {\"namelength\": 0}, \"hovertemplate\": \"data=%{x}<br>max_relu_data=%{y}\", \"legendgroup\": \"\", \"line\": {\"color\": \"#636efa\", \"dash\": \"solid\"}, \"mode\": \"lines\", \"name\": \"\", \"showlegend\": false, \"type\": \"scatter\", \"x\": [-2.3159024209912222, -2.0642705413842775, -1.948023060297861, -1.9314828750448096, -1.8569037132225332, -1.6791648051702721, -1.396162215319866, -1.1842562706692088, -1.0749985234351969, -0.9896708220353061, -0.9201083183853794, -0.911267457892984, -0.8605015756354312, -0.8041944866703535, -0.665907902261263, -0.6065027704851187, -0.548280992273387, -0.5135585482201352, -0.5086150796723039, -0.4799116880842628, -0.47275992536730604, -0.29337227190246323, -0.2558770674549793, -0.16206283206278427, -0.10942149160877826, -0.09828684980534977, -0.06748602965673466, -0.03550199205526672, 0.08313890656711628, 0.11361883685275921, 0.2141213249929331, 0.22170812352707348, 0.24900121567804415, 0.2641048218471183, 0.273880250203708, 0.28338704606112436, 0.28467592114491413, 0.31741903105892183, 0.3333039249278907, 0.40569122498808524, 0.4261299420935601, 0.5650765145441613, 0.5808021804552801, 0.7596261149549868, 1.3706857116796352, 1.407916949146357, 1.6840230960239684, 1.8224969408532754, 2.1272622477986083, 2.2469337980544655], \"xaxis\": \"x\", \"y\": [0.0, 0.0, 0.0, 0.0, 0.0, 0.0, 0.0, 0.0, 0.0, 0.0, 0.0, 0.0, 0.0, 0.0, 0.0, 0.0, 0.0, 0.0, 0.0, 0.0, 0.0, 0.0, 0.0, 0.0, 0.0, 0.0, 0.0, 0.0, 0.08313890656711628, 0.11361883685275921, 0.2141213249929331, 0.22170812352707348, 0.24900121567804415, 0.2641048218471183, 0.273880250203708, 0.28338704606112436, 0.28467592114491413, 0.31741903105892183, 0.3333039249278907, 0.40569122498808524, 0.4261299420935601, 0.5650765145441613, 0.5808021804552801, 0.7596261149549868, 1.3706857116796352, 1.407916949146357, 1.6840230960239684, 1.8224969408532754, 2.1272622477986083, 2.2469337980544655], \"yaxis\": \"y\"}],\n",
              "                        {\"height\": 400, \"legend\": {\"tracegroupgap\": 0}, \"template\": {\"data\": {\"bar\": [{\"error_x\": {\"color\": \"#2a3f5f\"}, \"error_y\": {\"color\": \"#2a3f5f\"}, \"marker\": {\"line\": {\"color\": \"#E5ECF6\", \"width\": 0.5}}, \"type\": \"bar\"}], \"barpolar\": [{\"marker\": {\"line\": {\"color\": \"#E5ECF6\", \"width\": 0.5}}, \"type\": \"barpolar\"}], \"carpet\": [{\"aaxis\": {\"endlinecolor\": \"#2a3f5f\", \"gridcolor\": \"white\", \"linecolor\": \"white\", \"minorgridcolor\": \"white\", \"startlinecolor\": \"#2a3f5f\"}, \"baxis\": {\"endlinecolor\": \"#2a3f5f\", \"gridcolor\": \"white\", \"linecolor\": \"white\", \"minorgridcolor\": \"white\", \"startlinecolor\": \"#2a3f5f\"}, \"type\": \"carpet\"}], \"choropleth\": [{\"colorbar\": {\"outlinewidth\": 0, \"ticks\": \"\"}, \"type\": \"choropleth\"}], \"contour\": [{\"colorbar\": {\"outlinewidth\": 0, \"ticks\": \"\"}, \"colorscale\": [[0.0, \"#0d0887\"], [0.1111111111111111, \"#46039f\"], [0.2222222222222222, \"#7201a8\"], [0.3333333333333333, \"#9c179e\"], [0.4444444444444444, \"#bd3786\"], [0.5555555555555556, \"#d8576b\"], [0.6666666666666666, \"#ed7953\"], [0.7777777777777778, \"#fb9f3a\"], [0.8888888888888888, \"#fdca26\"], [1.0, \"#f0f921\"]], \"type\": \"contour\"}], \"contourcarpet\": [{\"colorbar\": {\"outlinewidth\": 0, \"ticks\": \"\"}, \"type\": \"contourcarpet\"}], \"heatmap\": [{\"colorbar\": {\"outlinewidth\": 0, \"ticks\": \"\"}, \"colorscale\": [[0.0, \"#0d0887\"], [0.1111111111111111, \"#46039f\"], [0.2222222222222222, \"#7201a8\"], [0.3333333333333333, \"#9c179e\"], [0.4444444444444444, \"#bd3786\"], [0.5555555555555556, \"#d8576b\"], [0.6666666666666666, \"#ed7953\"], [0.7777777777777778, \"#fb9f3a\"], [0.8888888888888888, \"#fdca26\"], [1.0, \"#f0f921\"]], \"type\": \"heatmap\"}], \"heatmapgl\": [{\"colorbar\": {\"outlinewidth\": 0, \"ticks\": \"\"}, \"colorscale\": [[0.0, \"#0d0887\"], [0.1111111111111111, \"#46039f\"], [0.2222222222222222, \"#7201a8\"], [0.3333333333333333, \"#9c179e\"], [0.4444444444444444, \"#bd3786\"], [0.5555555555555556, \"#d8576b\"], [0.6666666666666666, \"#ed7953\"], [0.7777777777777778, \"#fb9f3a\"], [0.8888888888888888, \"#fdca26\"], [1.0, \"#f0f921\"]], \"type\": \"heatmapgl\"}], \"histogram\": [{\"marker\": {\"colorbar\": {\"outlinewidth\": 0, \"ticks\": \"\"}}, \"type\": \"histogram\"}], \"histogram2d\": [{\"colorbar\": {\"outlinewidth\": 0, \"ticks\": \"\"}, \"colorscale\": [[0.0, \"#0d0887\"], [0.1111111111111111, \"#46039f\"], [0.2222222222222222, \"#7201a8\"], [0.3333333333333333, \"#9c179e\"], [0.4444444444444444, \"#bd3786\"], [0.5555555555555556, \"#d8576b\"], [0.6666666666666666, \"#ed7953\"], [0.7777777777777778, \"#fb9f3a\"], [0.8888888888888888, \"#fdca26\"], [1.0, \"#f0f921\"]], \"type\": \"histogram2d\"}], \"histogram2dcontour\": [{\"colorbar\": {\"outlinewidth\": 0, \"ticks\": \"\"}, \"colorscale\": [[0.0, \"#0d0887\"], [0.1111111111111111, \"#46039f\"], [0.2222222222222222, \"#7201a8\"], [0.3333333333333333, \"#9c179e\"], [0.4444444444444444, \"#bd3786\"], [0.5555555555555556, \"#d8576b\"], [0.6666666666666666, \"#ed7953\"], [0.7777777777777778, \"#fb9f3a\"], [0.8888888888888888, \"#fdca26\"], [1.0, \"#f0f921\"]], \"type\": \"histogram2dcontour\"}], \"mesh3d\": [{\"colorbar\": {\"outlinewidth\": 0, \"ticks\": \"\"}, \"type\": \"mesh3d\"}], \"parcoords\": [{\"line\": {\"colorbar\": {\"outlinewidth\": 0, \"ticks\": \"\"}}, \"type\": \"parcoords\"}], \"pie\": [{\"automargin\": true, \"type\": \"pie\"}], \"scatter\": [{\"marker\": {\"colorbar\": {\"outlinewidth\": 0, \"ticks\": \"\"}}, \"type\": \"scatter\"}], \"scatter3d\": [{\"line\": {\"colorbar\": {\"outlinewidth\": 0, \"ticks\": \"\"}}, \"marker\": {\"colorbar\": {\"outlinewidth\": 0, \"ticks\": \"\"}}, \"type\": \"scatter3d\"}], \"scattercarpet\": [{\"marker\": {\"colorbar\": {\"outlinewidth\": 0, \"ticks\": \"\"}}, \"type\": \"scattercarpet\"}], \"scattergeo\": [{\"marker\": {\"colorbar\": {\"outlinewidth\": 0, \"ticks\": \"\"}}, \"type\": \"scattergeo\"}], \"scattergl\": [{\"marker\": {\"colorbar\": {\"outlinewidth\": 0, \"ticks\": \"\"}}, \"type\": \"scattergl\"}], \"scattermapbox\": [{\"marker\": {\"colorbar\": {\"outlinewidth\": 0, \"ticks\": \"\"}}, \"type\": \"scattermapbox\"}], \"scatterpolar\": [{\"marker\": {\"colorbar\": {\"outlinewidth\": 0, \"ticks\": \"\"}}, \"type\": \"scatterpolar\"}], \"scatterpolargl\": [{\"marker\": {\"colorbar\": {\"outlinewidth\": 0, \"ticks\": \"\"}}, \"type\": \"scatterpolargl\"}], \"scatterternary\": [{\"marker\": {\"colorbar\": {\"outlinewidth\": 0, \"ticks\": \"\"}}, \"type\": \"scatterternary\"}], \"surface\": [{\"colorbar\": {\"outlinewidth\": 0, \"ticks\": \"\"}, \"colorscale\": [[0.0, \"#0d0887\"], [0.1111111111111111, \"#46039f\"], [0.2222222222222222, \"#7201a8\"], [0.3333333333333333, \"#9c179e\"], [0.4444444444444444, \"#bd3786\"], [0.5555555555555556, \"#d8576b\"], [0.6666666666666666, \"#ed7953\"], [0.7777777777777778, \"#fb9f3a\"], [0.8888888888888888, \"#fdca26\"], [1.0, \"#f0f921\"]], \"type\": \"surface\"}], \"table\": [{\"cells\": {\"fill\": {\"color\": \"#EBF0F8\"}, \"line\": {\"color\": \"white\"}}, \"header\": {\"fill\": {\"color\": \"#C8D4E3\"}, \"line\": {\"color\": \"white\"}}, \"type\": \"table\"}]}, \"layout\": {\"annotationdefaults\": {\"arrowcolor\": \"#2a3f5f\", \"arrowhead\": 0, \"arrowwidth\": 1}, \"coloraxis\": {\"colorbar\": {\"outlinewidth\": 0, \"ticks\": \"\"}}, \"colorscale\": {\"diverging\": [[0, \"#8e0152\"], [0.1, \"#c51b7d\"], [0.2, \"#de77ae\"], [0.3, \"#f1b6da\"], [0.4, \"#fde0ef\"], [0.5, \"#f7f7f7\"], [0.6, \"#e6f5d0\"], [0.7, \"#b8e186\"], [0.8, \"#7fbc41\"], [0.9, \"#4d9221\"], [1, \"#276419\"]], \"sequential\": [[0.0, \"#0d0887\"], [0.1111111111111111, \"#46039f\"], [0.2222222222222222, \"#7201a8\"], [0.3333333333333333, \"#9c179e\"], [0.4444444444444444, \"#bd3786\"], [0.5555555555555556, \"#d8576b\"], [0.6666666666666666, \"#ed7953\"], [0.7777777777777778, \"#fb9f3a\"], [0.8888888888888888, \"#fdca26\"], [1.0, \"#f0f921\"]], \"sequentialminus\": [[0.0, \"#0d0887\"], [0.1111111111111111, \"#46039f\"], [0.2222222222222222, \"#7201a8\"], [0.3333333333333333, \"#9c179e\"], [0.4444444444444444, \"#bd3786\"], [0.5555555555555556, \"#d8576b\"], [0.6666666666666666, \"#ed7953\"], [0.7777777777777778, \"#fb9f3a\"], [0.8888888888888888, \"#fdca26\"], [1.0, \"#f0f921\"]]}, \"colorway\": [\"#636efa\", \"#EF553B\", \"#00cc96\", \"#ab63fa\", \"#FFA15A\", \"#19d3f3\", \"#FF6692\", \"#B6E880\", \"#FF97FF\", \"#FECB52\"], \"font\": {\"color\": \"#2a3f5f\"}, \"geo\": {\"bgcolor\": \"white\", \"lakecolor\": \"white\", \"landcolor\": \"#E5ECF6\", \"showlakes\": true, \"showland\": true, \"subunitcolor\": \"white\"}, \"hoverlabel\": {\"align\": \"left\"}, \"hovermode\": \"closest\", \"mapbox\": {\"style\": \"light\"}, \"paper_bgcolor\": \"white\", \"plot_bgcolor\": \"#E5ECF6\", \"polar\": {\"angularaxis\": {\"gridcolor\": \"white\", \"linecolor\": \"white\", \"ticks\": \"\"}, \"bgcolor\": \"#E5ECF6\", \"radialaxis\": {\"gridcolor\": \"white\", \"linecolor\": \"white\", \"ticks\": \"\"}}, \"scene\": {\"xaxis\": {\"backgroundcolor\": \"#E5ECF6\", \"gridcolor\": \"white\", \"gridwidth\": 2, \"linecolor\": \"white\", \"showbackground\": true, \"ticks\": \"\", \"zerolinecolor\": \"white\"}, \"yaxis\": {\"backgroundcolor\": \"#E5ECF6\", \"gridcolor\": \"white\", \"gridwidth\": 2, \"linecolor\": \"white\", \"showbackground\": true, \"ticks\": \"\", \"zerolinecolor\": \"white\"}, \"zaxis\": {\"backgroundcolor\": \"#E5ECF6\", \"gridcolor\": \"white\", \"gridwidth\": 2, \"linecolor\": \"white\", \"showbackground\": true, \"ticks\": \"\", \"zerolinecolor\": \"white\"}}, \"shapedefaults\": {\"line\": {\"color\": \"#2a3f5f\"}}, \"ternary\": {\"aaxis\": {\"gridcolor\": \"white\", \"linecolor\": \"white\", \"ticks\": \"\"}, \"baxis\": {\"gridcolor\": \"white\", \"linecolor\": \"white\", \"ticks\": \"\"}, \"bgcolor\": \"#E5ECF6\", \"caxis\": {\"gridcolor\": \"white\", \"linecolor\": \"white\", \"ticks\": \"\"}}, \"title\": {\"x\": 0.05}, \"xaxis\": {\"automargin\": true, \"gridcolor\": \"white\", \"linecolor\": \"white\", \"ticks\": \"\", \"title\": {\"standoff\": 15}, \"zerolinecolor\": \"white\", \"zerolinewidth\": 2}, \"yaxis\": {\"automargin\": true, \"gridcolor\": \"white\", \"linecolor\": \"white\", \"ticks\": \"\", \"title\": {\"standoff\": 15}, \"zerolinecolor\": \"white\", \"zerolinewidth\": 2}}}, \"title\": {\"text\": \"ReLU Function\"}, \"width\": 700, \"xaxis\": {\"anchor\": \"y\", \"domain\": [0.0, 1.0], \"title\": {\"text\": \"data\"}}, \"yaxis\": {\"anchor\": \"x\", \"domain\": [0.0, 1.0], \"title\": {\"text\": \"max_relu_data\"}}},\n",
              "                        {\"responsive\": true}\n",
              "                    ).then(function(){\n",
              "                            \n",
              "var gd = document.getElementById('26968701-e269-4788-9e79-1123be9f8829');\n",
              "var x = new MutationObserver(function (mutations, observer) {{\n",
              "        var display = window.getComputedStyle(gd).display;\n",
              "        if (!display || display === 'none') {{\n",
              "            console.log([gd, 'removed!']);\n",
              "            Plotly.purge(gd);\n",
              "            observer.disconnect();\n",
              "        }}\n",
              "}});\n",
              "\n",
              "// Listen for the removal of the full notebook cells\n",
              "var notebookContainer = gd.closest('#notebook-container');\n",
              "if (notebookContainer) {{\n",
              "    x.observe(notebookContainer, {childList: true});\n",
              "}}\n",
              "\n",
              "// Listen for the clearing of the current output cell\n",
              "var outputEl = gd.closest('.output');\n",
              "if (outputEl) {{\n",
              "    x.observe(outputEl, {childList: true});\n",
              "}}\n",
              "\n",
              "                        })\n",
              "                };\n",
              "                \n",
              "            </script>\n",
              "        </div>\n",
              "</body>\n",
              "</html>"
            ]
          },
          "metadata": {
            "tags": []
          }
        }
      ]
    },
    {
      "cell_type": "markdown",
      "metadata": {
        "id": "vfh9ofCB1ruM"
      },
      "source": [
        "#### <a name='a3'></a> 1.3 Funkcja Sigmoid\n",
        "####    $$f(x) = \\frac{1}{1 + e^{-x}}$$\n",
        "Ogólnie $f(x) = \\frac{1}{1 + e^{-\\beta x}}$\n",
        "ale u nas $\\beta=1$ "
      ]
    },
    {
      "cell_type": "code",
      "metadata": {
        "id": "VLM5thme0gr7"
      },
      "source": [
        "def sigmoid(x):\n",
        "    return 1 / (1 + np.exp(-x))"
      ],
      "execution_count": null,
      "outputs": []
    },
    {
      "cell_type": "code",
      "metadata": {
        "id": "cimu59j52An0",
        "colab": {
          "base_uri": "https://localhost:8080/"
        },
        "outputId": "f73bc3fc-c05a-4956-af91-975414f6b3fc"
      },
      "source": [
        "# funkcja sigmoid zwraca wartości z przedziału (0,1), które możemy interpretować jako p-two\n",
        "# a więc warto ją stosować w ostatniej warstwie sieci neuronowej\n",
        "for i in [-5., -3., -1., 0., 1., 3., 5.]:\n",
        "    print(\"sigmoid(\" + str(i) + \") = \" +  str(sigmoid(i)))"
      ],
      "execution_count": null,
      "outputs": [
        {
          "output_type": "stream",
          "text": [
            "sigmoid(-5.0) = 0.0066928509242848554\n",
            "sigmoid(-3.0) = 0.04742587317756678\n",
            "sigmoid(-1.0) = 0.2689414213699951\n",
            "sigmoid(0.0) = 0.5\n",
            "sigmoid(1.0) = 0.7310585786300049\n",
            "sigmoid(3.0) = 0.9525741268224334\n",
            "sigmoid(5.0) = 0.9933071490757153\n"
          ],
          "name": "stdout"
        }
      ]
    },
    {
      "cell_type": "code",
      "metadata": {
        "id": "3mfVwiiQ2CxW",
        "colab": {
          "base_uri": "https://localhost:8080/"
        },
        "outputId": "05ea1803-768d-41f8-f34a-eec75874b54b"
      },
      "source": [
        "# 50 liczb z rozkładu N(0,3)\n",
        "data = 3 * np.random.randn(50)\n",
        "data = sorted(data)\n",
        "data"
      ],
      "execution_count": null,
      "outputs": [
        {
          "output_type": "execute_result",
          "data": {
            "text/plain": [
              "[-5.964219666031279,\n",
              " -5.797977695224489,\n",
              " -5.3009285947912,\n",
              " -3.930091767884548,\n",
              " -3.574519788899213,\n",
              " -3.060766396266093,\n",
              " -2.72373582206935,\n",
              " -2.707345966505623,\n",
              " -2.5899728865053926,\n",
              " -2.2974382870562504,\n",
              " -2.09871935624736,\n",
              " -1.9483576323130816,\n",
              " -1.91615772197513,\n",
              " -1.675695127630541,\n",
              " -1.6361014132730154,\n",
              " -1.584257903551738,\n",
              " -1.5117903691414432,\n",
              " -1.4895239383213608,\n",
              " -1.412212892844361,\n",
              " -1.3269946987558774,\n",
              " -1.262885443046712,\n",
              " -0.9768953990602374,\n",
              " -0.9613563133850951,\n",
              " -0.9347442748606436,\n",
              " -0.8541896552886117,\n",
              " -0.8117845819158095,\n",
              " -0.6583363939455484,\n",
              " -0.6303395666083325,\n",
              " -0.5886874015450951,\n",
              " -0.38887153039924244,\n",
              " -0.336775141600107,\n",
              " 0.19136042100250317,\n",
              " 0.4138792641243957,\n",
              " 0.8245830820144147,\n",
              " 0.871409791154293,\n",
              " 1.1979268382625476,\n",
              " 1.4328546563598294,\n",
              " 1.4740267459384098,\n",
              " 1.5691254602938116,\n",
              " 1.864738758415743,\n",
              " 2.0845944683806468,\n",
              " 2.1644292403596146,\n",
              " 2.204750948981646,\n",
              " 2.2193906502697773,\n",
              " 2.2195231563436577,\n",
              " 2.4869098586679748,\n",
              " 2.8787700685894313,\n",
              " 3.0480742094058026,\n",
              " 3.138744962386586,\n",
              " 3.2167433823246014]"
            ]
          },
          "metadata": {
            "tags": []
          },
          "execution_count": 15
        }
      ]
    },
    {
      "cell_type": "code",
      "metadata": {
        "id": "oOzcLyAzCdQk",
        "colab": {
          "base_uri": "https://localhost:8080/"
        },
        "outputId": "f430b2c6-de3c-4584-cb9f-d7ac83b5fb89"
      },
      "source": [
        "# działam funkcją sigmoid na danych ze zbioru data, który jest posortowany\n",
        "sigmoid_data = [sigmoid(x) for x in data]\n",
        "sigmoid_data"
      ],
      "execution_count": null,
      "outputs": [
        {
          "output_type": "execute_result",
          "data": {
            "text/plain": [
              "[0.0025624654431504086,\n",
              " 0.0030245081780972704,\n",
              " 0.004962214520496273,\n",
              " 0.019263498838012896,\n",
              " 0.027264683712055354,\n",
              " 0.04475492670144715,\n",
              " 0.061587203391116375,\n",
              " 0.06254127646157447,\n",
              " 0.06978654296600592,\n",
              " 0.09133534331012146,\n",
              " 0.10922135531282509,\n",
              " 0.12473255211751706,\n",
              " 0.12829064320707337,\n",
              " 0.15766634676801589,\n",
              " 0.16299624223531198,\n",
              " 0.1701933040443562,\n",
              " 0.1806736120937071,\n",
              " 0.18399319242350334,\n",
              " 0.19588525967648032,\n",
              " 0.20965691178940163,\n",
              " 0.22047757920109817,\n",
              " 0.2735082385009766,\n",
              " 0.27660672053564783,\n",
              " 0.28196319602920356,\n",
              " 0.29855472090463536,\n",
              " 0.30751034254020587,\n",
              " 0.34111341652444505,\n",
              " 0.34743354609716337,\n",
              " 0.3569360819836997,\n",
              " 0.4039889862763794,\n",
              " 0.41659304578764816,\n",
              " 0.5476946505519488,\n",
              " 0.6020176878258682,\n",
              " 0.6952083342409091,\n",
              " 0.70503896151375,\n",
              " 0.7681557742578173,\n",
              " 0.8073457146526922,\n",
              " 0.8136686601753029,\n",
              " 0.8276588999758584,\n",
              " 0.8658483334039841,\n",
              " 0.8893968009840572,\n",
              " 0.8970094573617644,\n",
              " 0.9006753371248721,\n",
              " 0.901977333714283,\n",
              " 0.9019890485118724,\n",
              " 0.9232190422655435,\n",
              " 0.9467869319298299,\n",
              " 0.954699311786306,\n",
              " 0.9584629442206511,\n",
              " 0.9614595213550076]"
            ]
          },
          "metadata": {
            "tags": []
          },
          "execution_count": 16
        }
      ]
    },
    {
      "cell_type": "code",
      "metadata": {
        "id": "u6vFMyxWCjRz",
        "colab": {
          "base_uri": "https://localhost:8080/",
          "height": 203
        },
        "outputId": "0f24a7fa-fd9d-41c3-ed9b-ba47c5f6bf68"
      },
      "source": [
        "df = pd.DataFrame({'data': data, \n",
        "                   'sigmoid_data': sigmoid_data})\n",
        "df.head()"
      ],
      "execution_count": null,
      "outputs": [
        {
          "output_type": "execute_result",
          "data": {
            "text/html": [
              "<div>\n",
              "<style scoped>\n",
              "    .dataframe tbody tr th:only-of-type {\n",
              "        vertical-align: middle;\n",
              "    }\n",
              "\n",
              "    .dataframe tbody tr th {\n",
              "        vertical-align: top;\n",
              "    }\n",
              "\n",
              "    .dataframe thead th {\n",
              "        text-align: right;\n",
              "    }\n",
              "</style>\n",
              "<table border=\"1\" class=\"dataframe\">\n",
              "  <thead>\n",
              "    <tr style=\"text-align: right;\">\n",
              "      <th></th>\n",
              "      <th>data</th>\n",
              "      <th>sigmoid_data</th>\n",
              "    </tr>\n",
              "  </thead>\n",
              "  <tbody>\n",
              "    <tr>\n",
              "      <th>0</th>\n",
              "      <td>-5.964220</td>\n",
              "      <td>0.002562</td>\n",
              "    </tr>\n",
              "    <tr>\n",
              "      <th>1</th>\n",
              "      <td>-5.797978</td>\n",
              "      <td>0.003025</td>\n",
              "    </tr>\n",
              "    <tr>\n",
              "      <th>2</th>\n",
              "      <td>-5.300929</td>\n",
              "      <td>0.004962</td>\n",
              "    </tr>\n",
              "    <tr>\n",
              "      <th>3</th>\n",
              "      <td>-3.930092</td>\n",
              "      <td>0.019263</td>\n",
              "    </tr>\n",
              "    <tr>\n",
              "      <th>4</th>\n",
              "      <td>-3.574520</td>\n",
              "      <td>0.027265</td>\n",
              "    </tr>\n",
              "  </tbody>\n",
              "</table>\n",
              "</div>"
            ],
            "text/plain": [
              "       data  sigmoid_data\n",
              "0 -5.964220      0.002562\n",
              "1 -5.797978      0.003025\n",
              "2 -5.300929      0.004962\n",
              "3 -3.930092      0.019263\n",
              "4 -3.574520      0.027265"
            ]
          },
          "metadata": {
            "tags": []
          },
          "execution_count": 17
        }
      ]
    },
    {
      "cell_type": "code",
      "metadata": {
        "id": "8nVABhkyCUr1",
        "colab": {
          "base_uri": "https://localhost:8080/",
          "height": 417
        },
        "outputId": "457d9b1a-d3a9-4342-91ad-5d6abe0be733"
      },
      "source": [
        "px.line(df, x='data', y='sigmoid_data', width=700, height=400, title='Sigmoid Function')"
      ],
      "execution_count": null,
      "outputs": [
        {
          "output_type": "display_data",
          "data": {
            "text/html": [
              "<html>\n",
              "<head><meta charset=\"utf-8\" /></head>\n",
              "<body>\n",
              "    <div>\n",
              "            <script src=\"https://cdnjs.cloudflare.com/ajax/libs/mathjax/2.7.5/MathJax.js?config=TeX-AMS-MML_SVG\"></script><script type=\"text/javascript\">if (window.MathJax) {MathJax.Hub.Config({SVG: {font: \"STIX-Web\"}});}</script>\n",
              "                <script type=\"text/javascript\">window.PlotlyConfig = {MathJaxConfig: 'local'};</script>\n",
              "        <script src=\"https://cdn.plot.ly/plotly-latest.min.js\"></script>    \n",
              "            <div id=\"38b6fdd0-11c0-4998-a0b8-5b67ab775b10\" class=\"plotly-graph-div\" style=\"height:400px; width:700px;\"></div>\n",
              "            <script type=\"text/javascript\">\n",
              "                \n",
              "                    window.PLOTLYENV=window.PLOTLYENV || {};\n",
              "                    \n",
              "                if (document.getElementById(\"38b6fdd0-11c0-4998-a0b8-5b67ab775b10\")) {\n",
              "                    Plotly.newPlot(\n",
              "                        '38b6fdd0-11c0-4998-a0b8-5b67ab775b10',\n",
              "                        [{\"hoverlabel\": {\"namelength\": 0}, \"hovertemplate\": \"data=%{x}<br>sigmoid_data=%{y}\", \"legendgroup\": \"\", \"line\": {\"color\": \"#636efa\", \"dash\": \"solid\"}, \"mode\": \"lines\", \"name\": \"\", \"showlegend\": false, \"type\": \"scatter\", \"x\": [-5.964219666031279, -5.797977695224489, -5.3009285947912, -3.930091767884548, -3.574519788899213, -3.060766396266093, -2.72373582206935, -2.707345966505623, -2.5899728865053926, -2.2974382870562504, -2.09871935624736, -1.9483576323130816, -1.91615772197513, -1.675695127630541, -1.6361014132730154, -1.584257903551738, -1.5117903691414432, -1.4895239383213608, -1.412212892844361, -1.3269946987558774, -1.262885443046712, -0.9768953990602374, -0.9613563133850951, -0.9347442748606436, -0.8541896552886117, -0.8117845819158095, -0.6583363939455484, -0.6303395666083325, -0.5886874015450951, -0.38887153039924244, -0.336775141600107, 0.19136042100250317, 0.4138792641243957, 0.8245830820144147, 0.871409791154293, 1.1979268382625476, 1.4328546563598294, 1.4740267459384098, 1.5691254602938116, 1.864738758415743, 2.0845944683806468, 2.1644292403596146, 2.204750948981646, 2.2193906502697773, 2.2195231563436577, 2.4869098586679748, 2.8787700685894313, 3.0480742094058026, 3.138744962386586, 3.2167433823246014], \"xaxis\": \"x\", \"y\": [0.0025624654431504086, 0.0030245081780972704, 0.004962214520496273, 0.019263498838012896, 0.027264683712055354, 0.04475492670144715, 0.061587203391116375, 0.06254127646157447, 0.06978654296600592, 0.09133534331012146, 0.10922135531282509, 0.12473255211751706, 0.12829064320707337, 0.15766634676801589, 0.16299624223531198, 0.1701933040443562, 0.1806736120937071, 0.18399319242350334, 0.19588525967648032, 0.20965691178940163, 0.22047757920109817, 0.2735082385009766, 0.27660672053564783, 0.28196319602920356, 0.29855472090463536, 0.30751034254020587, 0.34111341652444505, 0.34743354609716337, 0.3569360819836997, 0.4039889862763794, 0.41659304578764816, 0.5476946505519488, 0.6020176878258682, 0.6952083342409091, 0.70503896151375, 0.7681557742578173, 0.8073457146526922, 0.8136686601753029, 0.8276588999758584, 0.8658483334039841, 0.8893968009840572, 0.8970094573617644, 0.9006753371248721, 0.901977333714283, 0.9019890485118724, 0.9232190422655435, 0.9467869319298299, 0.954699311786306, 0.9584629442206511, 0.9614595213550076], \"yaxis\": \"y\"}],\n",
              "                        {\"height\": 400, \"legend\": {\"tracegroupgap\": 0}, \"template\": {\"data\": {\"bar\": [{\"error_x\": {\"color\": \"#2a3f5f\"}, \"error_y\": {\"color\": \"#2a3f5f\"}, \"marker\": {\"line\": {\"color\": \"#E5ECF6\", \"width\": 0.5}}, \"type\": \"bar\"}], \"barpolar\": [{\"marker\": {\"line\": {\"color\": \"#E5ECF6\", \"width\": 0.5}}, \"type\": \"barpolar\"}], \"carpet\": [{\"aaxis\": {\"endlinecolor\": \"#2a3f5f\", \"gridcolor\": \"white\", \"linecolor\": \"white\", \"minorgridcolor\": \"white\", \"startlinecolor\": \"#2a3f5f\"}, \"baxis\": {\"endlinecolor\": \"#2a3f5f\", \"gridcolor\": \"white\", \"linecolor\": \"white\", \"minorgridcolor\": \"white\", \"startlinecolor\": \"#2a3f5f\"}, \"type\": \"carpet\"}], \"choropleth\": [{\"colorbar\": {\"outlinewidth\": 0, \"ticks\": \"\"}, \"type\": \"choropleth\"}], \"contour\": [{\"colorbar\": {\"outlinewidth\": 0, \"ticks\": \"\"}, \"colorscale\": [[0.0, \"#0d0887\"], [0.1111111111111111, \"#46039f\"], [0.2222222222222222, \"#7201a8\"], [0.3333333333333333, \"#9c179e\"], [0.4444444444444444, \"#bd3786\"], [0.5555555555555556, \"#d8576b\"], [0.6666666666666666, \"#ed7953\"], [0.7777777777777778, \"#fb9f3a\"], [0.8888888888888888, \"#fdca26\"], [1.0, \"#f0f921\"]], \"type\": \"contour\"}], \"contourcarpet\": [{\"colorbar\": {\"outlinewidth\": 0, \"ticks\": \"\"}, \"type\": \"contourcarpet\"}], \"heatmap\": [{\"colorbar\": {\"outlinewidth\": 0, \"ticks\": \"\"}, \"colorscale\": [[0.0, \"#0d0887\"], [0.1111111111111111, \"#46039f\"], [0.2222222222222222, \"#7201a8\"], [0.3333333333333333, \"#9c179e\"], [0.4444444444444444, \"#bd3786\"], [0.5555555555555556, \"#d8576b\"], [0.6666666666666666, \"#ed7953\"], [0.7777777777777778, \"#fb9f3a\"], [0.8888888888888888, \"#fdca26\"], [1.0, \"#f0f921\"]], \"type\": \"heatmap\"}], \"heatmapgl\": [{\"colorbar\": {\"outlinewidth\": 0, \"ticks\": \"\"}, \"colorscale\": [[0.0, \"#0d0887\"], [0.1111111111111111, \"#46039f\"], [0.2222222222222222, \"#7201a8\"], [0.3333333333333333, \"#9c179e\"], [0.4444444444444444, \"#bd3786\"], [0.5555555555555556, \"#d8576b\"], [0.6666666666666666, \"#ed7953\"], [0.7777777777777778, \"#fb9f3a\"], [0.8888888888888888, \"#fdca26\"], [1.0, \"#f0f921\"]], \"type\": \"heatmapgl\"}], \"histogram\": [{\"marker\": {\"colorbar\": {\"outlinewidth\": 0, \"ticks\": \"\"}}, \"type\": \"histogram\"}], \"histogram2d\": [{\"colorbar\": {\"outlinewidth\": 0, \"ticks\": \"\"}, \"colorscale\": [[0.0, \"#0d0887\"], [0.1111111111111111, \"#46039f\"], [0.2222222222222222, \"#7201a8\"], [0.3333333333333333, \"#9c179e\"], [0.4444444444444444, \"#bd3786\"], [0.5555555555555556, \"#d8576b\"], [0.6666666666666666, \"#ed7953\"], [0.7777777777777778, \"#fb9f3a\"], [0.8888888888888888, \"#fdca26\"], [1.0, \"#f0f921\"]], \"type\": \"histogram2d\"}], \"histogram2dcontour\": [{\"colorbar\": {\"outlinewidth\": 0, \"ticks\": \"\"}, \"colorscale\": [[0.0, \"#0d0887\"], [0.1111111111111111, \"#46039f\"], [0.2222222222222222, \"#7201a8\"], [0.3333333333333333, \"#9c179e\"], [0.4444444444444444, \"#bd3786\"], [0.5555555555555556, \"#d8576b\"], [0.6666666666666666, \"#ed7953\"], [0.7777777777777778, \"#fb9f3a\"], [0.8888888888888888, \"#fdca26\"], [1.0, \"#f0f921\"]], \"type\": \"histogram2dcontour\"}], \"mesh3d\": [{\"colorbar\": {\"outlinewidth\": 0, \"ticks\": \"\"}, \"type\": \"mesh3d\"}], \"parcoords\": [{\"line\": {\"colorbar\": {\"outlinewidth\": 0, \"ticks\": \"\"}}, \"type\": \"parcoords\"}], \"pie\": [{\"automargin\": true, \"type\": \"pie\"}], \"scatter\": [{\"marker\": {\"colorbar\": {\"outlinewidth\": 0, \"ticks\": \"\"}}, \"type\": \"scatter\"}], \"scatter3d\": [{\"line\": {\"colorbar\": {\"outlinewidth\": 0, \"ticks\": \"\"}}, \"marker\": {\"colorbar\": {\"outlinewidth\": 0, \"ticks\": \"\"}}, \"type\": \"scatter3d\"}], \"scattercarpet\": [{\"marker\": {\"colorbar\": {\"outlinewidth\": 0, \"ticks\": \"\"}}, \"type\": \"scattercarpet\"}], \"scattergeo\": [{\"marker\": {\"colorbar\": {\"outlinewidth\": 0, \"ticks\": \"\"}}, \"type\": \"scattergeo\"}], \"scattergl\": [{\"marker\": {\"colorbar\": {\"outlinewidth\": 0, \"ticks\": \"\"}}, \"type\": \"scattergl\"}], \"scattermapbox\": [{\"marker\": {\"colorbar\": {\"outlinewidth\": 0, \"ticks\": \"\"}}, \"type\": \"scattermapbox\"}], \"scatterpolar\": [{\"marker\": {\"colorbar\": {\"outlinewidth\": 0, \"ticks\": \"\"}}, \"type\": \"scatterpolar\"}], \"scatterpolargl\": [{\"marker\": {\"colorbar\": {\"outlinewidth\": 0, \"ticks\": \"\"}}, \"type\": \"scatterpolargl\"}], \"scatterternary\": [{\"marker\": {\"colorbar\": {\"outlinewidth\": 0, \"ticks\": \"\"}}, \"type\": \"scatterternary\"}], \"surface\": [{\"colorbar\": {\"outlinewidth\": 0, \"ticks\": \"\"}, \"colorscale\": [[0.0, \"#0d0887\"], [0.1111111111111111, \"#46039f\"], [0.2222222222222222, \"#7201a8\"], [0.3333333333333333, \"#9c179e\"], [0.4444444444444444, \"#bd3786\"], [0.5555555555555556, \"#d8576b\"], [0.6666666666666666, \"#ed7953\"], [0.7777777777777778, \"#fb9f3a\"], [0.8888888888888888, \"#fdca26\"], [1.0, \"#f0f921\"]], \"type\": \"surface\"}], \"table\": [{\"cells\": {\"fill\": {\"color\": \"#EBF0F8\"}, \"line\": {\"color\": \"white\"}}, \"header\": {\"fill\": {\"color\": \"#C8D4E3\"}, \"line\": {\"color\": \"white\"}}, \"type\": \"table\"}]}, \"layout\": {\"annotationdefaults\": {\"arrowcolor\": \"#2a3f5f\", \"arrowhead\": 0, \"arrowwidth\": 1}, \"coloraxis\": {\"colorbar\": {\"outlinewidth\": 0, \"ticks\": \"\"}}, \"colorscale\": {\"diverging\": [[0, \"#8e0152\"], [0.1, \"#c51b7d\"], [0.2, \"#de77ae\"], [0.3, \"#f1b6da\"], [0.4, \"#fde0ef\"], [0.5, \"#f7f7f7\"], [0.6, \"#e6f5d0\"], [0.7, \"#b8e186\"], [0.8, \"#7fbc41\"], [0.9, \"#4d9221\"], [1, \"#276419\"]], \"sequential\": [[0.0, \"#0d0887\"], [0.1111111111111111, \"#46039f\"], [0.2222222222222222, \"#7201a8\"], [0.3333333333333333, \"#9c179e\"], [0.4444444444444444, \"#bd3786\"], [0.5555555555555556, \"#d8576b\"], [0.6666666666666666, \"#ed7953\"], [0.7777777777777778, \"#fb9f3a\"], [0.8888888888888888, \"#fdca26\"], [1.0, \"#f0f921\"]], \"sequentialminus\": [[0.0, \"#0d0887\"], [0.1111111111111111, \"#46039f\"], [0.2222222222222222, \"#7201a8\"], [0.3333333333333333, \"#9c179e\"], [0.4444444444444444, \"#bd3786\"], [0.5555555555555556, \"#d8576b\"], [0.6666666666666666, \"#ed7953\"], [0.7777777777777778, \"#fb9f3a\"], [0.8888888888888888, \"#fdca26\"], [1.0, \"#f0f921\"]]}, \"colorway\": [\"#636efa\", \"#EF553B\", \"#00cc96\", \"#ab63fa\", \"#FFA15A\", \"#19d3f3\", \"#FF6692\", \"#B6E880\", \"#FF97FF\", \"#FECB52\"], \"font\": {\"color\": \"#2a3f5f\"}, \"geo\": {\"bgcolor\": \"white\", \"lakecolor\": \"white\", \"landcolor\": \"#E5ECF6\", \"showlakes\": true, \"showland\": true, \"subunitcolor\": \"white\"}, \"hoverlabel\": {\"align\": \"left\"}, \"hovermode\": \"closest\", \"mapbox\": {\"style\": \"light\"}, \"paper_bgcolor\": \"white\", \"plot_bgcolor\": \"#E5ECF6\", \"polar\": {\"angularaxis\": {\"gridcolor\": \"white\", \"linecolor\": \"white\", \"ticks\": \"\"}, \"bgcolor\": \"#E5ECF6\", \"radialaxis\": {\"gridcolor\": \"white\", \"linecolor\": \"white\", \"ticks\": \"\"}}, \"scene\": {\"xaxis\": {\"backgroundcolor\": \"#E5ECF6\", \"gridcolor\": \"white\", \"gridwidth\": 2, \"linecolor\": \"white\", \"showbackground\": true, \"ticks\": \"\", \"zerolinecolor\": \"white\"}, \"yaxis\": {\"backgroundcolor\": \"#E5ECF6\", \"gridcolor\": \"white\", \"gridwidth\": 2, \"linecolor\": \"white\", \"showbackground\": true, \"ticks\": \"\", \"zerolinecolor\": \"white\"}, \"zaxis\": {\"backgroundcolor\": \"#E5ECF6\", \"gridcolor\": \"white\", \"gridwidth\": 2, \"linecolor\": \"white\", \"showbackground\": true, \"ticks\": \"\", \"zerolinecolor\": \"white\"}}, \"shapedefaults\": {\"line\": {\"color\": \"#2a3f5f\"}}, \"ternary\": {\"aaxis\": {\"gridcolor\": \"white\", \"linecolor\": \"white\", \"ticks\": \"\"}, \"baxis\": {\"gridcolor\": \"white\", \"linecolor\": \"white\", \"ticks\": \"\"}, \"bgcolor\": \"#E5ECF6\", \"caxis\": {\"gridcolor\": \"white\", \"linecolor\": \"white\", \"ticks\": \"\"}}, \"title\": {\"x\": 0.05}, \"xaxis\": {\"automargin\": true, \"gridcolor\": \"white\", \"linecolor\": \"white\", \"ticks\": \"\", \"title\": {\"standoff\": 15}, \"zerolinecolor\": \"white\", \"zerolinewidth\": 2}, \"yaxis\": {\"automargin\": true, \"gridcolor\": \"white\", \"linecolor\": \"white\", \"ticks\": \"\", \"title\": {\"standoff\": 15}, \"zerolinecolor\": \"white\", \"zerolinewidth\": 2}}}, \"title\": {\"text\": \"Sigmoid Function\"}, \"width\": 700, \"xaxis\": {\"anchor\": \"y\", \"domain\": [0.0, 1.0], \"title\": {\"text\": \"data\"}}, \"yaxis\": {\"anchor\": \"x\", \"domain\": [0.0, 1.0], \"title\": {\"text\": \"sigmoid_data\"}}},\n",
              "                        {\"responsive\": true}\n",
              "                    ).then(function(){\n",
              "                            \n",
              "var gd = document.getElementById('38b6fdd0-11c0-4998-a0b8-5b67ab775b10');\n",
              "var x = new MutationObserver(function (mutations, observer) {{\n",
              "        var display = window.getComputedStyle(gd).display;\n",
              "        if (!display || display === 'none') {{\n",
              "            console.log([gd, 'removed!']);\n",
              "            Plotly.purge(gd);\n",
              "            observer.disconnect();\n",
              "        }}\n",
              "}});\n",
              "\n",
              "// Listen for the removal of the full notebook cells\n",
              "var notebookContainer = gd.closest('#notebook-container');\n",
              "if (notebookContainer) {{\n",
              "    x.observe(notebookContainer, {childList: true});\n",
              "}}\n",
              "\n",
              "// Listen for the clearing of the current output cell\n",
              "var outputEl = gd.closest('.output');\n",
              "if (outputEl) {{\n",
              "    x.observe(outputEl, {childList: true});\n",
              "}}\n",
              "\n",
              "                        })\n",
              "                };\n",
              "                \n",
              "            </script>\n",
              "        </div>\n",
              "</body>\n",
              "</html>"
            ]
          },
          "metadata": {
            "tags": []
          }
        }
      ]
    },
    {
      "cell_type": "markdown",
      "metadata": {
        "id": "pptPQDGR_rDk"
      },
      "source": [
        "#### <a name='a4'></a> 1.4 Tanh Function\n",
        "\n",
        "####   $$tanh (x) = \\frac{e^{x} - e^{-x}}{e^{x} + e^{-x}}$$"
      ]
    },
    {
      "cell_type": "code",
      "metadata": {
        "id": "y-hHbl9S_seo"
      },
      "source": [
        "def tanh(x):\n",
        "    return (np.exp(x) - np.exp(-x)) / (np.exp(x) + np.exp(-x))"
      ],
      "execution_count": null,
      "outputs": []
    },
    {
      "cell_type": "code",
      "metadata": {
        "id": "mCy8eQF0F7qd",
        "colab": {
          "base_uri": "https://localhost:8080/"
        },
        "outputId": "ab72cced-fc8d-4d92-d64e-e768febcb9db"
      },
      "source": [
        "# 100 liczb z rozkładu N(0,2)\n",
        "data = 2 * np.random.randn(100)\n",
        "data = sorted(data)\n",
        "data"
      ],
      "execution_count": null,
      "outputs": [
        {
          "output_type": "execute_result",
          "data": {
            "text/plain": [
              "[-6.621051889461325,\n",
              " -6.479169639714347,\n",
              " -5.25132150282458,\n",
              " -4.8721990398914885,\n",
              " -4.804751719924984,\n",
              " -3.9188258418238293,\n",
              " -3.8817593727512154,\n",
              " -3.199235071571312,\n",
              " -3.014338948255498,\n",
              " -2.727110646151037,\n",
              " -2.672859135117788,\n",
              " -2.638976614808112,\n",
              " -2.5625208595153706,\n",
              " -2.556766291191558,\n",
              " -2.395656965363937,\n",
              " -2.3660289545112465,\n",
              " -2.3240216219892624,\n",
              " -2.2287497783768884,\n",
              " -2.0914575909151494,\n",
              " -1.898824313553384,\n",
              " -1.8669544441886399,\n",
              " -1.7671164120620162,\n",
              " -1.563169514910168,\n",
              " -1.479543663381669,\n",
              " -1.4114255709888144,\n",
              " -1.3879614189807143,\n",
              " -1.3273324368323443,\n",
              " -1.325957612916584,\n",
              " -1.3171615588150163,\n",
              " -1.2158957872150304,\n",
              " -1.044936415353959,\n",
              " -1.030428355870944,\n",
              " -1.0197620956039748,\n",
              " -0.9778763099371308,\n",
              " -0.8194895542576276,\n",
              " -0.6729316989429469,\n",
              " -0.6321024188947268,\n",
              " -0.4987673081174447,\n",
              " -0.43053023281433633,\n",
              " -0.3959092587800215,\n",
              " -0.2633283377411014,\n",
              " -0.24122804461618944,\n",
              " -0.2188898242661734,\n",
              " -0.16982468927432448,\n",
              " -0.10529526009721064,\n",
              " 0.039087218859630325,\n",
              " 0.09870618710835405,\n",
              " 0.1215951305333529,\n",
              " 0.14995812741066059,\n",
              " 0.30537053213729237,\n",
              " 0.4631756268108329,\n",
              " 0.47526172580337833,\n",
              " 0.5278729775618567,\n",
              " 0.5919703110584883,\n",
              " 0.6242994690614668,\n",
              " 0.6541732070138684,\n",
              " 0.6652379209970977,\n",
              " 0.6963439959396458,\n",
              " 0.7322336530682649,\n",
              " 0.7337911921496894,\n",
              " 0.7585774214480713,\n",
              " 0.7640020120644734,\n",
              " 0.8479716884535395,\n",
              " 0.883919456159275,\n",
              " 0.9452188959779285,\n",
              " 1.2836105409423635,\n",
              " 1.3097352098570831,\n",
              " 1.3325950567066334,\n",
              " 1.3599761541312452,\n",
              " 1.3763869404120994,\n",
              " 1.4430264421490735,\n",
              " 1.4836110594964322,\n",
              " 1.5213668573067092,\n",
              " 1.6355060431771913,\n",
              " 1.6421195180549866,\n",
              " 1.7477763271216191,\n",
              " 1.7582370267318146,\n",
              " 1.7906139967069805,\n",
              " 1.9288875341452514,\n",
              " 2.0368135090728696,\n",
              " 2.0394808480546596,\n",
              " 2.0784049078847997,\n",
              " 2.106895110303138,\n",
              " 2.1294710268841084,\n",
              " 2.17442904874815,\n",
              " 2.2965235334137994,\n",
              " 2.3475916332807993,\n",
              " 2.3556919464397166,\n",
              " 2.411555710163547,\n",
              " 2.4787596571298565,\n",
              " 2.6600024905529778,\n",
              " 3.113486550513301,\n",
              " 3.529633366968033,\n",
              " 3.691643225921494,\n",
              " 3.931217484740837,\n",
              " 4.0640999099712465,\n",
              " 4.375856404962203,\n",
              " 5.418180660720837,\n",
              " 5.588281524717289,\n",
              " 5.928548195380252]"
            ]
          },
          "metadata": {
            "tags": []
          },
          "execution_count": 20
        }
      ]
    },
    {
      "cell_type": "code",
      "metadata": {
        "id": "BQs0XUeWF_Xy",
        "colab": {
          "base_uri": "https://localhost:8080/"
        },
        "outputId": "1fe32d41-ec81-43f7-efea-e151357974e5"
      },
      "source": [
        "tanh_data = [tanh(x) for x in sorted(data)]\n",
        "tanh_data"
      ],
      "execution_count": null,
      "outputs": [
        {
          "output_type": "execute_result",
          "data": {
            "text/plain": [
              "[-0.9999964514034569,\n",
              " -0.9999952870402741,\n",
              " -0.9999450739755725,\n",
              " -0.9998827625883405,\n",
              " -0.9998658327423809,\n",
              " -0.9992111221141182,\n",
              " -0.9991504437752106,\n",
              " -0.9966773269373891,\n",
              " -0.9951942227743997,\n",
              " -0.9914800362529439,\n",
              " -0.9905082120560538,\n",
              " -0.989846085045611,\n",
              " -0.9881783525701456,\n",
              " -0.9880423278144481,\n",
              " -0.9835336113046313,\n",
              " -0.9825371670343439,\n",
              " -0.9810211635757432,\n",
              " -0.977083016875023,\n",
              " -0.9699504262779237,\n",
              " -0.9561366944651283,\n",
              " -0.9533172156099823,\n",
              " -0.9432925177858063,\n",
              " -0.9159324475834495,\n",
              " -0.9013824554920036,\n",
              " -0.8877964760642557,\n",
              " -0.8827215740438117,\n",
              " -0.8685958520535778,\n",
              " -0.8682578726859077,\n",
              " -0.8660763102775821,\n",
              " -0.8384393317396425,\n",
              " -0.7798299358959044,\n",
              " -0.7740800818364428,\n",
              " -0.7697696183868427,\n",
              " -0.7521451057467816,\n",
              " -0.6747919533471016,\n",
              " -0.5869050430191581,\n",
              " -0.5594981957380375,\n",
              " -0.4611471574563284,\n",
              " -0.40576433675852963,\n",
              " -0.37644333625872295,\n",
              " -0.2574059952303656,\n",
              " -0.23665535301231713,\n",
              " -0.21545967690400783,\n",
              " -0.16821070055911627,\n",
              " -0.10490783875205484,\n",
              " 0.03906732506034075,\n",
              " 0.09838686960582475,\n",
              " 0.12099937709527034,\n",
              " 0.14884408895810042,\n",
              " 0.29621966064254535,\n",
              " 0.43266889599135006,\n",
              " 0.4424408723682805,\n",
              " 0.48375350570883285,\n",
              " 0.5313111964245905,\n",
              " 0.5541144728668287,\n",
              " 0.5744726391127711,\n",
              " 0.5818386674782722,\n",
              " 0.6020420380754875,\n",
              " 0.6244299737897568,\n",
              " 0.6253792844164641,\n",
              " 0.6402382691909483,\n",
              " 0.6434281828102512,\n",
              " 0.6900083473298237,\n",
              " 0.7083774255954506,\n",
              " 0.7376108785231017,\n",
              " 0.8574439151034976,\n",
              " 0.8642083981880363,\n",
              " 0.8698821506326219,\n",
              " 0.876387536661108,\n",
              " 0.8801396343314901,\n",
              " 0.894305318020474,\n",
              " 0.9021423414461611,\n",
              " 0.9089355630532985,\n",
              " 0.9268417110123482,\n",
              " 0.9277682827489858,\n",
              " 0.9411219271577915,\n",
              " 0.9423057775325968,\n",
              " 0.945825327322936,\n",
              " 0.958643388674048,\n",
              " 0.9665382490494103,\n",
              " 0.966713318366513,\n",
              " 0.9691678946603803,\n",
              " 0.970850716185072,\n",
              " 0.9721196496046584,\n",
              " 0.9744865548546128,\n",
              " 0.9799589171788956,\n",
              " 0.9818871521872634,\n",
              " 0.9821756333822392,\n",
              " 0.9840448529759326,\n",
              " 0.986037468832125,\n",
              " 0.9902621857815194,\n",
              " 0.9960569446795549,\n",
              " 0.9982826598204795,\n",
              " 0.9987576625493938,\n",
              " 0.9992304253899654,\n",
              " 0.9994099762070264,\n",
              " 0.9996836697537405,\n",
              " 0.9999606586257023,\n",
              " 0.99997200346673,\n",
              " 0.9999858239451977]"
            ]
          },
          "metadata": {
            "tags": []
          },
          "execution_count": 21
        }
      ]
    },
    {
      "cell_type": "code",
      "metadata": {
        "id": "UTII8B0NGFSy",
        "colab": {
          "base_uri": "https://localhost:8080/",
          "height": 203
        },
        "outputId": "29b9243a-b402-4d5c-ee33-e1bb87493150"
      },
      "source": [
        "df = pd.DataFrame({'data': data, \n",
        "                   'tanh_data': tanh_data})\n",
        "df.head()"
      ],
      "execution_count": null,
      "outputs": [
        {
          "output_type": "execute_result",
          "data": {
            "text/html": [
              "<div>\n",
              "<style scoped>\n",
              "    .dataframe tbody tr th:only-of-type {\n",
              "        vertical-align: middle;\n",
              "    }\n",
              "\n",
              "    .dataframe tbody tr th {\n",
              "        vertical-align: top;\n",
              "    }\n",
              "\n",
              "    .dataframe thead th {\n",
              "        text-align: right;\n",
              "    }\n",
              "</style>\n",
              "<table border=\"1\" class=\"dataframe\">\n",
              "  <thead>\n",
              "    <tr style=\"text-align: right;\">\n",
              "      <th></th>\n",
              "      <th>data</th>\n",
              "      <th>tanh_data</th>\n",
              "    </tr>\n",
              "  </thead>\n",
              "  <tbody>\n",
              "    <tr>\n",
              "      <th>0</th>\n",
              "      <td>-6.621052</td>\n",
              "      <td>-0.999996</td>\n",
              "    </tr>\n",
              "    <tr>\n",
              "      <th>1</th>\n",
              "      <td>-6.479170</td>\n",
              "      <td>-0.999995</td>\n",
              "    </tr>\n",
              "    <tr>\n",
              "      <th>2</th>\n",
              "      <td>-5.251322</td>\n",
              "      <td>-0.999945</td>\n",
              "    </tr>\n",
              "    <tr>\n",
              "      <th>3</th>\n",
              "      <td>-4.872199</td>\n",
              "      <td>-0.999883</td>\n",
              "    </tr>\n",
              "    <tr>\n",
              "      <th>4</th>\n",
              "      <td>-4.804752</td>\n",
              "      <td>-0.999866</td>\n",
              "    </tr>\n",
              "  </tbody>\n",
              "</table>\n",
              "</div>"
            ],
            "text/plain": [
              "       data  tanh_data\n",
              "0 -6.621052  -0.999996\n",
              "1 -6.479170  -0.999995\n",
              "2 -5.251322  -0.999945\n",
              "3 -4.872199  -0.999883\n",
              "4 -4.804752  -0.999866"
            ]
          },
          "metadata": {
            "tags": []
          },
          "execution_count": 22
        }
      ]
    },
    {
      "cell_type": "code",
      "metadata": {
        "id": "l5hakU-kGIN4",
        "colab": {
          "base_uri": "https://localhost:8080/",
          "height": 417
        },
        "outputId": "d66ef76a-8c1b-41a5-d94d-d3bee0f749d3"
      },
      "source": [
        "px.line(df, x='data', y='tanh_data', width=700, height=400, title='Tanh Function')"
      ],
      "execution_count": null,
      "outputs": [
        {
          "output_type": "display_data",
          "data": {
            "text/html": [
              "<html>\n",
              "<head><meta charset=\"utf-8\" /></head>\n",
              "<body>\n",
              "    <div>\n",
              "            <script src=\"https://cdnjs.cloudflare.com/ajax/libs/mathjax/2.7.5/MathJax.js?config=TeX-AMS-MML_SVG\"></script><script type=\"text/javascript\">if (window.MathJax) {MathJax.Hub.Config({SVG: {font: \"STIX-Web\"}});}</script>\n",
              "                <script type=\"text/javascript\">window.PlotlyConfig = {MathJaxConfig: 'local'};</script>\n",
              "        <script src=\"https://cdn.plot.ly/plotly-latest.min.js\"></script>    \n",
              "            <div id=\"083226db-8118-4e11-b159-28eb7aa635e1\" class=\"plotly-graph-div\" style=\"height:400px; width:700px;\"></div>\n",
              "            <script type=\"text/javascript\">\n",
              "                \n",
              "                    window.PLOTLYENV=window.PLOTLYENV || {};\n",
              "                    \n",
              "                if (document.getElementById(\"083226db-8118-4e11-b159-28eb7aa635e1\")) {\n",
              "                    Plotly.newPlot(\n",
              "                        '083226db-8118-4e11-b159-28eb7aa635e1',\n",
              "                        [{\"hoverlabel\": {\"namelength\": 0}, \"hovertemplate\": \"data=%{x}<br>tanh_data=%{y}\", \"legendgroup\": \"\", \"line\": {\"color\": \"#636efa\", \"dash\": \"solid\"}, \"mode\": \"lines\", \"name\": \"\", \"showlegend\": false, \"type\": \"scatter\", \"x\": [-6.621051889461325, -6.479169639714347, -5.25132150282458, -4.8721990398914885, -4.804751719924984, -3.9188258418238293, -3.8817593727512154, -3.199235071571312, -3.014338948255498, -2.727110646151037, -2.672859135117788, -2.638976614808112, -2.5625208595153706, -2.556766291191558, -2.395656965363937, -2.3660289545112465, -2.3240216219892624, -2.2287497783768884, -2.0914575909151494, -1.898824313553384, -1.8669544441886399, -1.7671164120620162, -1.563169514910168, -1.479543663381669, -1.4114255709888144, -1.3879614189807143, -1.3273324368323443, -1.325957612916584, -1.3171615588150163, -1.2158957872150304, -1.044936415353959, -1.030428355870944, -1.0197620956039748, -0.9778763099371308, -0.8194895542576276, -0.6729316989429469, -0.6321024188947268, -0.4987673081174447, -0.43053023281433633, -0.3959092587800215, -0.2633283377411014, -0.24122804461618944, -0.2188898242661734, -0.16982468927432448, -0.10529526009721064, 0.039087218859630325, 0.09870618710835405, 0.1215951305333529, 0.14995812741066059, 0.30537053213729237, 0.4631756268108329, 0.47526172580337833, 0.5278729775618567, 0.5919703110584883, 0.6242994690614668, 0.6541732070138684, 0.6652379209970977, 0.6963439959396458, 0.7322336530682649, 0.7337911921496894, 0.7585774214480713, 0.7640020120644734, 0.8479716884535395, 0.883919456159275, 0.9452188959779285, 1.2836105409423635, 1.3097352098570831, 1.3325950567066334, 1.3599761541312452, 1.3763869404120994, 1.4430264421490735, 1.4836110594964322, 1.5213668573067092, 1.6355060431771913, 1.6421195180549866, 1.7477763271216191, 1.7582370267318146, 1.7906139967069805, 1.9288875341452514, 2.0368135090728696, 2.0394808480546596, 2.0784049078847997, 2.106895110303138, 2.1294710268841084, 2.17442904874815, 2.2965235334137994, 2.3475916332807993, 2.3556919464397166, 2.411555710163547, 2.4787596571298565, 2.6600024905529778, 3.113486550513301, 3.529633366968033, 3.691643225921494, 3.931217484740837, 4.0640999099712465, 4.375856404962203, 5.418180660720837, 5.588281524717289, 5.928548195380252], \"xaxis\": \"x\", \"y\": [-0.9999964514034569, -0.9999952870402741, -0.9999450739755725, -0.9998827625883405, -0.9998658327423809, -0.9992111221141182, -0.9991504437752106, -0.9966773269373891, -0.9951942227743997, -0.9914800362529439, -0.9905082120560538, -0.989846085045611, -0.9881783525701456, -0.9880423278144481, -0.9835336113046313, -0.9825371670343439, -0.9810211635757432, -0.977083016875023, -0.9699504262779237, -0.9561366944651283, -0.9533172156099823, -0.9432925177858063, -0.9159324475834495, -0.9013824554920036, -0.8877964760642557, -0.8827215740438117, -0.8685958520535778, -0.8682578726859077, -0.8660763102775821, -0.8384393317396425, -0.7798299358959044, -0.7740800818364428, -0.7697696183868427, -0.7521451057467816, -0.6747919533471016, -0.5869050430191581, -0.5594981957380375, -0.4611471574563284, -0.40576433675852963, -0.37644333625872295, -0.2574059952303656, -0.23665535301231713, -0.21545967690400783, -0.16821070055911627, -0.10490783875205484, 0.03906732506034075, 0.09838686960582475, 0.12099937709527034, 0.14884408895810042, 0.29621966064254535, 0.43266889599135006, 0.4424408723682805, 0.48375350570883285, 0.5313111964245905, 0.5541144728668287, 0.5744726391127711, 0.5818386674782722, 0.6020420380754875, 0.6244299737897568, 0.6253792844164641, 0.6402382691909483, 0.6434281828102512, 0.6900083473298237, 0.7083774255954506, 0.7376108785231017, 0.8574439151034976, 0.8642083981880363, 0.8698821506326219, 0.876387536661108, 0.8801396343314901, 0.894305318020474, 0.9021423414461611, 0.9089355630532985, 0.9268417110123482, 0.9277682827489858, 0.9411219271577915, 0.9423057775325968, 0.945825327322936, 0.958643388674048, 0.9665382490494103, 0.966713318366513, 0.9691678946603803, 0.970850716185072, 0.9721196496046584, 0.9744865548546128, 0.9799589171788956, 0.9818871521872634, 0.9821756333822392, 0.9840448529759326, 0.986037468832125, 0.9902621857815194, 0.9960569446795549, 0.9982826598204795, 0.9987576625493938, 0.9992304253899654, 0.9994099762070264, 0.9996836697537405, 0.9999606586257023, 0.99997200346673, 0.9999858239451977], \"yaxis\": \"y\"}],\n",
              "                        {\"height\": 400, \"legend\": {\"tracegroupgap\": 0}, \"template\": {\"data\": {\"bar\": [{\"error_x\": {\"color\": \"#2a3f5f\"}, \"error_y\": {\"color\": \"#2a3f5f\"}, \"marker\": {\"line\": {\"color\": \"#E5ECF6\", \"width\": 0.5}}, \"type\": \"bar\"}], \"barpolar\": [{\"marker\": {\"line\": {\"color\": \"#E5ECF6\", \"width\": 0.5}}, \"type\": \"barpolar\"}], \"carpet\": [{\"aaxis\": {\"endlinecolor\": \"#2a3f5f\", \"gridcolor\": \"white\", \"linecolor\": \"white\", \"minorgridcolor\": \"white\", \"startlinecolor\": \"#2a3f5f\"}, \"baxis\": {\"endlinecolor\": \"#2a3f5f\", \"gridcolor\": \"white\", \"linecolor\": \"white\", \"minorgridcolor\": \"white\", \"startlinecolor\": \"#2a3f5f\"}, \"type\": \"carpet\"}], \"choropleth\": [{\"colorbar\": {\"outlinewidth\": 0, \"ticks\": \"\"}, \"type\": \"choropleth\"}], \"contour\": [{\"colorbar\": {\"outlinewidth\": 0, \"ticks\": \"\"}, \"colorscale\": [[0.0, \"#0d0887\"], [0.1111111111111111, \"#46039f\"], [0.2222222222222222, \"#7201a8\"], [0.3333333333333333, \"#9c179e\"], [0.4444444444444444, \"#bd3786\"], [0.5555555555555556, \"#d8576b\"], [0.6666666666666666, \"#ed7953\"], [0.7777777777777778, \"#fb9f3a\"], [0.8888888888888888, \"#fdca26\"], [1.0, \"#f0f921\"]], \"type\": \"contour\"}], \"contourcarpet\": [{\"colorbar\": {\"outlinewidth\": 0, \"ticks\": \"\"}, \"type\": \"contourcarpet\"}], \"heatmap\": [{\"colorbar\": {\"outlinewidth\": 0, \"ticks\": \"\"}, \"colorscale\": [[0.0, \"#0d0887\"], [0.1111111111111111, \"#46039f\"], [0.2222222222222222, \"#7201a8\"], [0.3333333333333333, \"#9c179e\"], [0.4444444444444444, \"#bd3786\"], [0.5555555555555556, \"#d8576b\"], [0.6666666666666666, \"#ed7953\"], [0.7777777777777778, \"#fb9f3a\"], [0.8888888888888888, \"#fdca26\"], [1.0, \"#f0f921\"]], \"type\": \"heatmap\"}], \"heatmapgl\": [{\"colorbar\": {\"outlinewidth\": 0, \"ticks\": \"\"}, \"colorscale\": [[0.0, \"#0d0887\"], [0.1111111111111111, \"#46039f\"], [0.2222222222222222, \"#7201a8\"], [0.3333333333333333, \"#9c179e\"], [0.4444444444444444, \"#bd3786\"], [0.5555555555555556, \"#d8576b\"], [0.6666666666666666, \"#ed7953\"], [0.7777777777777778, \"#fb9f3a\"], [0.8888888888888888, \"#fdca26\"], [1.0, \"#f0f921\"]], \"type\": \"heatmapgl\"}], \"histogram\": [{\"marker\": {\"colorbar\": {\"outlinewidth\": 0, \"ticks\": \"\"}}, \"type\": \"histogram\"}], \"histogram2d\": [{\"colorbar\": {\"outlinewidth\": 0, \"ticks\": \"\"}, \"colorscale\": [[0.0, \"#0d0887\"], [0.1111111111111111, \"#46039f\"], [0.2222222222222222, \"#7201a8\"], [0.3333333333333333, \"#9c179e\"], [0.4444444444444444, \"#bd3786\"], [0.5555555555555556, \"#d8576b\"], [0.6666666666666666, \"#ed7953\"], [0.7777777777777778, \"#fb9f3a\"], [0.8888888888888888, \"#fdca26\"], [1.0, \"#f0f921\"]], \"type\": \"histogram2d\"}], \"histogram2dcontour\": [{\"colorbar\": {\"outlinewidth\": 0, \"ticks\": \"\"}, \"colorscale\": [[0.0, \"#0d0887\"], [0.1111111111111111, \"#46039f\"], [0.2222222222222222, \"#7201a8\"], [0.3333333333333333, \"#9c179e\"], [0.4444444444444444, \"#bd3786\"], [0.5555555555555556, \"#d8576b\"], [0.6666666666666666, \"#ed7953\"], [0.7777777777777778, \"#fb9f3a\"], [0.8888888888888888, \"#fdca26\"], [1.0, \"#f0f921\"]], \"type\": \"histogram2dcontour\"}], \"mesh3d\": [{\"colorbar\": {\"outlinewidth\": 0, \"ticks\": \"\"}, \"type\": \"mesh3d\"}], \"parcoords\": [{\"line\": {\"colorbar\": {\"outlinewidth\": 0, \"ticks\": \"\"}}, \"type\": \"parcoords\"}], \"pie\": [{\"automargin\": true, \"type\": \"pie\"}], \"scatter\": [{\"marker\": {\"colorbar\": {\"outlinewidth\": 0, \"ticks\": \"\"}}, \"type\": \"scatter\"}], \"scatter3d\": [{\"line\": {\"colorbar\": {\"outlinewidth\": 0, \"ticks\": \"\"}}, \"marker\": {\"colorbar\": {\"outlinewidth\": 0, \"ticks\": \"\"}}, \"type\": \"scatter3d\"}], \"scattercarpet\": [{\"marker\": {\"colorbar\": {\"outlinewidth\": 0, \"ticks\": \"\"}}, \"type\": \"scattercarpet\"}], \"scattergeo\": [{\"marker\": {\"colorbar\": {\"outlinewidth\": 0, \"ticks\": \"\"}}, \"type\": \"scattergeo\"}], \"scattergl\": [{\"marker\": {\"colorbar\": {\"outlinewidth\": 0, \"ticks\": \"\"}}, \"type\": \"scattergl\"}], \"scattermapbox\": [{\"marker\": {\"colorbar\": {\"outlinewidth\": 0, \"ticks\": \"\"}}, \"type\": \"scattermapbox\"}], \"scatterpolar\": [{\"marker\": {\"colorbar\": {\"outlinewidth\": 0, \"ticks\": \"\"}}, \"type\": \"scatterpolar\"}], \"scatterpolargl\": [{\"marker\": {\"colorbar\": {\"outlinewidth\": 0, \"ticks\": \"\"}}, \"type\": \"scatterpolargl\"}], \"scatterternary\": [{\"marker\": {\"colorbar\": {\"outlinewidth\": 0, \"ticks\": \"\"}}, \"type\": \"scatterternary\"}], \"surface\": [{\"colorbar\": {\"outlinewidth\": 0, \"ticks\": \"\"}, \"colorscale\": [[0.0, \"#0d0887\"], [0.1111111111111111, \"#46039f\"], [0.2222222222222222, \"#7201a8\"], [0.3333333333333333, \"#9c179e\"], [0.4444444444444444, \"#bd3786\"], [0.5555555555555556, \"#d8576b\"], [0.6666666666666666, \"#ed7953\"], [0.7777777777777778, \"#fb9f3a\"], [0.8888888888888888, \"#fdca26\"], [1.0, \"#f0f921\"]], \"type\": \"surface\"}], \"table\": [{\"cells\": {\"fill\": {\"color\": \"#EBF0F8\"}, \"line\": {\"color\": \"white\"}}, \"header\": {\"fill\": {\"color\": \"#C8D4E3\"}, \"line\": {\"color\": \"white\"}}, \"type\": \"table\"}]}, \"layout\": {\"annotationdefaults\": {\"arrowcolor\": \"#2a3f5f\", \"arrowhead\": 0, \"arrowwidth\": 1}, \"coloraxis\": {\"colorbar\": {\"outlinewidth\": 0, \"ticks\": \"\"}}, \"colorscale\": {\"diverging\": [[0, \"#8e0152\"], [0.1, \"#c51b7d\"], [0.2, \"#de77ae\"], [0.3, \"#f1b6da\"], [0.4, \"#fde0ef\"], [0.5, \"#f7f7f7\"], [0.6, \"#e6f5d0\"], [0.7, \"#b8e186\"], [0.8, \"#7fbc41\"], [0.9, \"#4d9221\"], [1, \"#276419\"]], \"sequential\": [[0.0, \"#0d0887\"], [0.1111111111111111, \"#46039f\"], [0.2222222222222222, \"#7201a8\"], [0.3333333333333333, \"#9c179e\"], [0.4444444444444444, \"#bd3786\"], [0.5555555555555556, \"#d8576b\"], [0.6666666666666666, \"#ed7953\"], [0.7777777777777778, \"#fb9f3a\"], [0.8888888888888888, \"#fdca26\"], [1.0, \"#f0f921\"]], \"sequentialminus\": [[0.0, \"#0d0887\"], [0.1111111111111111, \"#46039f\"], [0.2222222222222222, \"#7201a8\"], [0.3333333333333333, \"#9c179e\"], [0.4444444444444444, \"#bd3786\"], [0.5555555555555556, \"#d8576b\"], [0.6666666666666666, \"#ed7953\"], [0.7777777777777778, \"#fb9f3a\"], [0.8888888888888888, \"#fdca26\"], [1.0, \"#f0f921\"]]}, \"colorway\": [\"#636efa\", \"#EF553B\", \"#00cc96\", \"#ab63fa\", \"#FFA15A\", \"#19d3f3\", \"#FF6692\", \"#B6E880\", \"#FF97FF\", \"#FECB52\"], \"font\": {\"color\": \"#2a3f5f\"}, \"geo\": {\"bgcolor\": \"white\", \"lakecolor\": \"white\", \"landcolor\": \"#E5ECF6\", \"showlakes\": true, \"showland\": true, \"subunitcolor\": \"white\"}, \"hoverlabel\": {\"align\": \"left\"}, \"hovermode\": \"closest\", \"mapbox\": {\"style\": \"light\"}, \"paper_bgcolor\": \"white\", \"plot_bgcolor\": \"#E5ECF6\", \"polar\": {\"angularaxis\": {\"gridcolor\": \"white\", \"linecolor\": \"white\", \"ticks\": \"\"}, \"bgcolor\": \"#E5ECF6\", \"radialaxis\": {\"gridcolor\": \"white\", \"linecolor\": \"white\", \"ticks\": \"\"}}, \"scene\": {\"xaxis\": {\"backgroundcolor\": \"#E5ECF6\", \"gridcolor\": \"white\", \"gridwidth\": 2, \"linecolor\": \"white\", \"showbackground\": true, \"ticks\": \"\", \"zerolinecolor\": \"white\"}, \"yaxis\": {\"backgroundcolor\": \"#E5ECF6\", \"gridcolor\": \"white\", \"gridwidth\": 2, \"linecolor\": \"white\", \"showbackground\": true, \"ticks\": \"\", \"zerolinecolor\": \"white\"}, \"zaxis\": {\"backgroundcolor\": \"#E5ECF6\", \"gridcolor\": \"white\", \"gridwidth\": 2, \"linecolor\": \"white\", \"showbackground\": true, \"ticks\": \"\", \"zerolinecolor\": \"white\"}}, \"shapedefaults\": {\"line\": {\"color\": \"#2a3f5f\"}}, \"ternary\": {\"aaxis\": {\"gridcolor\": \"white\", \"linecolor\": \"white\", \"ticks\": \"\"}, \"baxis\": {\"gridcolor\": \"white\", \"linecolor\": \"white\", \"ticks\": \"\"}, \"bgcolor\": \"#E5ECF6\", \"caxis\": {\"gridcolor\": \"white\", \"linecolor\": \"white\", \"ticks\": \"\"}}, \"title\": {\"x\": 0.05}, \"xaxis\": {\"automargin\": true, \"gridcolor\": \"white\", \"linecolor\": \"white\", \"ticks\": \"\", \"title\": {\"standoff\": 15}, \"zerolinecolor\": \"white\", \"zerolinewidth\": 2}, \"yaxis\": {\"automargin\": true, \"gridcolor\": \"white\", \"linecolor\": \"white\", \"ticks\": \"\", \"title\": {\"standoff\": 15}, \"zerolinecolor\": \"white\", \"zerolinewidth\": 2}}}, \"title\": {\"text\": \"Tanh Function\"}, \"width\": 700, \"xaxis\": {\"anchor\": \"y\", \"domain\": [0.0, 1.0], \"title\": {\"text\": \"data\"}}, \"yaxis\": {\"anchor\": \"x\", \"domain\": [0.0, 1.0], \"title\": {\"text\": \"tanh_data\"}}},\n",
              "                        {\"responsive\": true}\n",
              "                    ).then(function(){\n",
              "                            \n",
              "var gd = document.getElementById('083226db-8118-4e11-b159-28eb7aa635e1');\n",
              "var x = new MutationObserver(function (mutations, observer) {{\n",
              "        var display = window.getComputedStyle(gd).display;\n",
              "        if (!display || display === 'none') {{\n",
              "            console.log([gd, 'removed!']);\n",
              "            Plotly.purge(gd);\n",
              "            observer.disconnect();\n",
              "        }}\n",
              "}});\n",
              "\n",
              "// Listen for the removal of the full notebook cells\n",
              "var notebookContainer = gd.closest('#notebook-container');\n",
              "if (notebookContainer) {{\n",
              "    x.observe(notebookContainer, {childList: true});\n",
              "}}\n",
              "\n",
              "// Listen for the clearing of the current output cell\n",
              "var outputEl = gd.closest('.output');\n",
              "if (outputEl) {{\n",
              "    x.observe(outputEl, {childList: true});\n",
              "}}\n",
              "\n",
              "                        })\n",
              "                };\n",
              "                \n",
              "            </script>\n",
              "        </div>\n",
              "</body>\n",
              "</html>"
            ]
          },
          "metadata": {
            "tags": []
          }
        }
      ]
    },
    {
      "cell_type": "markdown",
      "metadata": {
        "id": "YtWKaTds3wDQ"
      },
      "source": [
        "#### <a name='a5'></a> 1.5 Softmax Function\n",
        "\n",
        "####   $$S(x_i)=\\frac{e^{x_{i}}}{\\sum_{j=1}^{N}e^{x_j}},\\ \\ dla\\ i = 1,...,N$$\n",
        "\n",
        "####   $$S(x_1)=\\frac{e^{x_{1}}}{\\sum_{j=1}^{N}e^{x_j}}$$"
      ]
    },
    {
      "cell_type": "code",
      "metadata": {
        "id": "XSNZjSUH2zdt"
      },
      "source": [
        "# dobra dla klasyfikacji wieloklasowej\n",
        "def softmax(x):\n",
        "    return np.exp(x) / np.sum(np.exp(x), axis=0)"
      ],
      "execution_count": null,
      "outputs": []
    },
    {
      "cell_type": "code",
      "metadata": {
        "id": "BqTm6Wov7Gvs",
        "colab": {
          "base_uri": "https://localhost:8080/"
        },
        "outputId": "ed7e3c3d-213e-46a7-f81e-028482b40226"
      },
      "source": [
        "# 4 próbki i w ostatniej wartswie 5 klas\n",
        "data = np.random.randn(4, 5)\n",
        "data"
      ],
      "execution_count": null,
      "outputs": [
        {
          "output_type": "execute_result",
          "data": {
            "text/plain": [
              "array([[ 0.38593 , -2.009427,  1.073051, -0.760349, -0.793825],\n",
              "       [-0.677732, -0.190475, -0.475178,  0.230409,  0.184846],\n",
              "       [-0.374103,  0.47311 , -0.572242,  0.84135 , -1.026342],\n",
              "       [-0.310216, -0.796961, -0.315786, -0.343184, -1.875972]])"
            ]
          },
          "metadata": {
            "tags": []
          },
          "execution_count": 26
        }
      ]
    },
    {
      "cell_type": "code",
      "metadata": {
        "id": "lbOWiPyO7H4s",
        "colab": {
          "base_uri": "https://localhost:8080/"
        },
        "outputId": "152bbdb8-15d4-47fc-debb-3cd4f1367ea2"
      },
      "source": [
        "# w wektorach są p-twa przynależności danej próbki do poszczególnej klasy\n",
        "np.exp(data)"
      ],
      "execution_count": null,
      "outputs": [
        {
          "output_type": "execute_result",
          "data": {
            "text/plain": [
              "array([[1.470982, 0.134065, 2.924289, 0.467503, 0.452112],\n",
              "       [0.507767, 0.826567, 0.621774, 1.259115, 1.203034],\n",
              "       [0.687906, 1.604978, 0.564259, 2.319496, 0.358315],\n",
              "       [0.733288, 0.450697, 0.729216, 0.709508, 0.153206]])"
            ]
          },
          "metadata": {
            "tags": []
          },
          "execution_count": 27
        }
      ]
    },
    {
      "cell_type": "code",
      "metadata": {
        "id": "HkPqUJEY7Nnt",
        "colab": {
          "base_uri": "https://localhost:8080/"
        },
        "outputId": "a99f7d73-6466-4ff7-9505-a38d213a5e2d"
      },
      "source": [
        "np.sum(np.exp(data), axis=0)"
      ],
      "execution_count": null,
      "outputs": [
        {
          "output_type": "execute_result",
          "data": {
            "text/plain": [
              "array([3.399943, 3.016306, 4.839538, 4.755622, 2.166667])"
            ]
          },
          "metadata": {
            "tags": []
          },
          "execution_count": 28
        }
      ]
    },
    {
      "cell_type": "code",
      "metadata": {
        "id": "6YO_8MP5DwCN",
        "colab": {
          "base_uri": "https://localhost:8080/"
        },
        "outputId": "3d6b8b0a-1ace-429c-8197-361e4fc40627"
      },
      "source": [
        "np.exp(data) / np.sum(np.exp(data), axis=0)"
      ],
      "execution_count": null,
      "outputs": [
        {
          "output_type": "execute_result",
          "data": {
            "text/plain": [
              "array([[0.432649, 0.044447, 0.60425 , 0.098305, 0.208667],\n",
              "       [0.149346, 0.274033, 0.128478, 0.264763, 0.555246],\n",
              "       [0.202329, 0.5321  , 0.116594, 0.487738, 0.165376],\n",
              "       [0.215677, 0.14942 , 0.150679, 0.149194, 0.07071 ]])"
            ]
          },
          "metadata": {
            "tags": []
          },
          "execution_count": 29
        }
      ]
    },
    {
      "cell_type": "code",
      "metadata": {
        "id": "7fRn7uVC7fht",
        "colab": {
          "base_uri": "https://localhost:8080/"
        },
        "outputId": "cc441500-9264-4951-d23b-5638f2571049"
      },
      "source": [
        "results = softmax(data)\n",
        "results\n",
        "# w pierwszej próbce byłaby to klasa z indeksem 2 bo najwyższy wynik 0.60425"
      ],
      "execution_count": null,
      "outputs": [
        {
          "output_type": "execute_result",
          "data": {
            "text/plain": [
              "array([[0.432649, 0.044447, 0.60425 , 0.098305, 0.208667],\n",
              "       [0.149346, 0.274033, 0.128478, 0.264763, 0.555246],\n",
              "       [0.202329, 0.5321  , 0.116594, 0.487738, 0.165376],\n",
              "       [0.215677, 0.14942 , 0.150679, 0.149194, 0.07071 ]])"
            ]
          },
          "metadata": {
            "tags": []
          },
          "execution_count": 30
        }
      ]
    },
    {
      "cell_type": "code",
      "metadata": {
        "id": "T8PzGibQ8Qvm",
        "colab": {
          "base_uri": "https://localhost:8080/"
        },
        "outputId": "16577831-ea3b-4f64-dd92-ef12a3689672"
      },
      "source": [
        "# w każdym wektorze p-twa sumują się do 1 (czemu sumuje kolumnami skoro próbki to wiersze)\n",
        "np.sum(results, axis=0)"
      ],
      "execution_count": null,
      "outputs": [
        {
          "output_type": "execute_result",
          "data": {
            "text/plain": [
              "array([1., 1., 1., 1., 1.])"
            ]
          },
          "metadata": {
            "tags": []
          },
          "execution_count": 32
        }
      ]
    }
  ]
}